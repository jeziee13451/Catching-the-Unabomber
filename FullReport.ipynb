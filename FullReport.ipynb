{
  "cells": [
    {
      "cell_type": "markdown",
      "metadata": {
        "id": "Wp_hc22LLZKB"
      },
      "source": [
        "# Background"
      ]
    },
    {
      "cell_type": "markdown",
      "metadata": {
        "id": "n5_3VrcQehSY"
      },
      "source": [
        "##Natural Language Processing"
      ]
    },
    {
      "cell_type": "markdown",
      "metadata": {
        "id": "pZf7c6IRkG3Z"
      },
      "source": [
        "Natural Language Processing, or NLP, is the overlap of Computer Science and Linguistics that focuses on using computers to better understand human language. Language can be broken down into patterns – think sentence trees or conjugating verbs – and with those patterns, as well as statistical and machine learning modules, we can train computers to start “understanding” and analyzing human speech. Natural language processing is much more common than you may realize, as it is used for many voice recognition systems, such as voice activated GPS, robo-calls, online customer service chats, and virtual assistants such as Siri and Alexa. One recent, fairly recognizable example of NLP is Chat GPT, which allows users to ask questions and have conversations with the AI Chat GPT. These conversations often sound impressively human. Using natural language processing, computers are able to process language similar to the way humans can. To do this, words and documents need to be broken down into smaller pieces computers can understand. This is called tokenization. There are many different types of tokenization, but we will be working specifically with sentence and word tokenization. Sentence tokenization takes a literary work and breaks it down by sentence. This is generally done by examining end punctuation. Word tokenization breaks down paragraphs or other written works by word, which is done by looking at where spaces appear."
      ]
    },
    {
      "cell_type": "markdown",
      "metadata": {
        "id": "hTcYtp4zkNEt"
      },
      "source": [
        "**Motivation**\n",
        "\n",
        "NLP has many uses, but one of the most interesting uses we found for it is Forensic Linguistics. Forensic Linguistics is the overlap of forensic science – using science to gather evidence in criminal cases, like DNA or fingerprints – and linguistics. One part of forensic linguistics is proving authorship. A linguistic expert, or team of linguistic experts, is given writing by an unknown author as well as writings from a suspect or suspects. The experts then use aspects of the suspects’ writings and compare them to the aspects of the unknown author’s writing to see if they match. For example, they look for phrases common in certain geographic areas (like “Duck Duck Gray Duck” instead of “Duck Duck Goose”) or certain age groups. They can also look at the syntax of the authors to determine which “proper” English rules the authors break and how often they use different types of punctuation. They can even look for things as simple as spelling errors consistent between authors. \n",
        "\n",
        "We were interested in trying to mimic this while adding elements of probability and statistics. This would allow us opportunities to quantify how similar or different certain writings are. We could find basic statistics for different written works, such as mean sentence and word length, as well as finding the most frequently used words by authors. From these distributions, we were curious if we could create a way to determine authorship of a piece of writing with some degree of certainty.\n",
        "\n",
        "To do this, we relied heavily on word and sentence tokenization in Python. We used the Natural Language Toolkit, or NLTK, which has built-in tokenization functions. NLTK uses an algorithm similar to the Penn TreeBank Tokenization method, which is built off of white space tokenization. It has a large bank of information to tokenize, so it recognizes contractions, hyphenated words, and punctuation as singular tokens instead of breaking them up like white space tokenization would do. This allowed us to isolate words or punctuation, as well as finding the length of sentences and words. \n"
      ]
    },
    {
      "cell_type": "markdown",
      "metadata": {
        "id": "HFpU3y9FemXt"
      },
      "source": [
        "##Demonstration"
      ]
    },
    {
      "cell_type": "code",
      "execution_count": null,
      "metadata": {
        "colab": {
          "background_save": true
        },
        "id": "SjqQ0e-OerXX",
        "outputId": "7801df12-f590-40e5-80a6-eacdf9eeb4c6"
      },
      "outputs": [
        {
          "name": "stderr",
          "output_type": "stream",
          "text": [
            "[nltk_data] Downloading package punkt to /root/nltk_data...\n",
            "[nltk_data]   Package punkt is already up-to-date!\n",
            "[nltk_data] Downloading package words to /root/nltk_data...\n",
            "[nltk_data]   Package words is already up-to-date!\n",
            "[nltk_data] Downloading package averaged_perceptron_tagger to\n",
            "[nltk_data]     /root/nltk_data...\n",
            "[nltk_data]   Package averaged_perceptron_tagger is already up-to-\n",
            "[nltk_data]       date!\n",
            "[nltk_data] Downloading package stopwords to /root/nltk_data...\n",
            "[nltk_data]   Package stopwords is already up-to-date!\n"
          ]
        }
      ],
      "source": [
        "#Import the tokenizing functions from the Natural Language Tool Kit (nltk)\n",
        "import nltk\n",
        "from nltk.tokenize import sent_tokenize, word_tokenize\n",
        "nltk.download('punkt')\n",
        "nltk.download('words')\n",
        "nltk.download('averaged_perceptron_tagger')\n",
        "nltk.download('stopwords')\n",
        "#and pandas\n",
        "import pandas as pd\n",
        "#and seaborn\n",
        "import seaborn as sns\n",
        "#and pyplot\n",
        "import matplotlib.pyplot as plt"
      ]
    },
    {
      "cell_type": "code",
      "execution_count": null,
      "metadata": {
        "colab": {
          "background_save": true
        },
        "id": "yIzVLiF4o0-D"
      },
      "outputs": [],
      "source": [
        "quote = \"\"\"\"This is our test quote. It has multiple sentences, \n",
        "            and multiple words. There some are repeating words. \n",
        "            Let's demonstrate.\"\"\""
      ]
    },
    {
      "cell_type": "markdown",
      "metadata": {
        "id": "bQSODFrwpKYA"
      },
      "source": [
        "Now that we have a string to work with, we can tokenize by sentence. This puts the sentences from the string into one list."
      ]
    },
    {
      "cell_type": "code",
      "execution_count": null,
      "metadata": {
        "colab": {
          "background_save": true
        },
        "id": "9wA90bqUpLdr",
        "outputId": "44fd92e7-cb48-40bb-9b9d-7fd4b1d75a0e"
      },
      "outputs": [
        {
          "data": {
            "text/plain": [
              "['\"This is our test quote.',\n",
              " 'It has multiple sentences, \\n            and multiple words.',\n",
              " 'There some are repeating words.',\n",
              " \"Let's demonstrate.\"]"
            ]
          },
          "execution_count": 100,
          "metadata": {},
          "output_type": "execute_result"
        }
      ],
      "source": [
        "sent_list = sent_tokenize(quote)\n",
        "sent_list"
      ]
    },
    {
      "cell_type": "markdown",
      "metadata": {
        "id": "9CuuzVAYpzPN"
      },
      "source": [
        "Now, let's tokenize by word. This puts all of the words into one list."
      ]
    },
    {
      "cell_type": "code",
      "execution_count": null,
      "metadata": {
        "colab": {
          "background_save": true
        },
        "id": "v42d0UIgpSnb",
        "outputId": "e2f841f0-9ce5-4b57-cf81-c42b6ac77d44"
      },
      "outputs": [
        {
          "data": {
            "text/plain": [
              "['``',\n",
              " 'This',\n",
              " 'is',\n",
              " 'our',\n",
              " 'test',\n",
              " 'quote',\n",
              " '.',\n",
              " 'It',\n",
              " 'has',\n",
              " 'multiple',\n",
              " 'sentences',\n",
              " ',',\n",
              " 'and',\n",
              " 'multiple',\n",
              " 'words',\n",
              " '.',\n",
              " 'There',\n",
              " 'some',\n",
              " 'are',\n",
              " 'repeating',\n",
              " 'words',\n",
              " '.',\n",
              " 'Let',\n",
              " \"'s\",\n",
              " 'demonstrate',\n",
              " '.']"
            ]
          },
          "execution_count": 101,
          "metadata": {},
          "output_type": "execute_result"
        }
      ],
      "source": [
        "word_list = word_tokenize(quote)\n",
        "word_list"
      ]
    },
    {
      "cell_type": "markdown",
      "metadata": {
        "id": "cufe-_4_p3HM"
      },
      "source": [
        "Notice that this function includes punctuation and 's as separate words. Let's remove these."
      ]
    },
    {
      "cell_type": "code",
      "execution_count": null,
      "metadata": {
        "colab": {
          "background_save": true
        },
        "id": "-HExhIJ9qRIO",
        "outputId": "b5516d9b-fd36-4cff-f03b-f915dceb1f5c"
      },
      "outputs": [
        {
          "data": {
            "text/plain": [
              "['this',\n",
              " 'is',\n",
              " 'our',\n",
              " 'test',\n",
              " 'quote',\n",
              " 'it',\n",
              " 'has',\n",
              " 'multiple',\n",
              " 'sentences',\n",
              " 'and',\n",
              " 'multiple',\n",
              " 'words',\n",
              " 'there',\n",
              " 'some',\n",
              " 'are',\n",
              " 'repeating',\n",
              " 'words',\n",
              " 'let',\n",
              " 'demonstrate']"
            ]
          },
          "execution_count": 102,
          "metadata": {},
          "output_type": "execute_result"
        }
      ],
      "source": [
        "takeout = ['.',',','!',\"?\",\"'s\", '``']\n",
        "final_word_list = [word.lower() for word in word_list if word not in takeout]\n",
        "final_word_list"
      ]
    },
    {
      "cell_type": "markdown",
      "metadata": {
        "id": "82IeuC5NqXJ0"
      },
      "source": [
        "Now that we understand both sentence and word tokenization, let's put them together. Let's make a frequency list, or dictionary, of sentence lengths. Find the number of words in each sentence, then save how many sentences of each length there are."
      ]
    },
    {
      "cell_type": "code",
      "execution_count": null,
      "metadata": {
        "colab": {
          "background_save": true
        },
        "id": "W-cfgeXAqTcv",
        "outputId": "7cf63c92-afb4-4776-d3cc-b59594d66475"
      },
      "outputs": [
        {
          "data": {
            "text/plain": [
              "{5: 2, 7: 1, 2: 1}"
            ]
          },
          "execution_count": 103,
          "metadata": {},
          "output_type": "execute_result"
        }
      ],
      "source": [
        "sent_dict = {}\n",
        "for sentence in sent_list:\n",
        "    #tokenize the sentence by word\n",
        "    words_in_sent = word_tokenize(sentence)\n",
        "    #take out the words we need to take out\n",
        "    words_clean = [word for word in words_in_sent if word not in takeout]\n",
        "    #find the sentence length based on the number of words in the sentence\n",
        "    sent_length = len(words_clean)\n",
        "    #if that length has already been found\n",
        "    if sent_length in sent_dict:\n",
        "        #increment its frequency by one\n",
        "        sent_dict[sent_length] += 1\n",
        "       #otherwise, set the frequency to one \n",
        "    else:\n",
        "        sent_dict[sent_length] = 1\n",
        "sent_dict"
      ]
    },
    {
      "cell_type": "markdown",
      "metadata": {
        "id": "kQtGgXt5qf4w"
      },
      "source": [
        "Let's do the same thing with word frequency. Instead of finding lengths, let's see how often each word appears in the quote.\n",
        "\n",
        "Since this example is so small, we're not going to worry about taking out the super common words like \"the\", \"a\", and \"to\", which are called stop words. In the application we'll remove those so the words we do look at will be more unique based on the author."
      ]
    },
    {
      "cell_type": "code",
      "execution_count": null,
      "metadata": {
        "colab": {
          "background_save": true
        },
        "id": "dq7uE2s0qbKs",
        "outputId": "89977fb4-df19-4ff5-8f86-9fdd557c9bb9"
      },
      "outputs": [
        {
          "data": {
            "text/plain": [
              "{'this': 1,\n",
              " 'is': 1,\n",
              " 'our': 1,\n",
              " 'test': 1,\n",
              " 'quote': 1,\n",
              " 'it': 1,\n",
              " 'has': 1,\n",
              " 'multiple': 2,\n",
              " 'sentences': 1,\n",
              " 'and': 1,\n",
              " 'words': 2,\n",
              " 'there': 1,\n",
              " 'some': 1,\n",
              " 'are': 1,\n",
              " 'repeating': 1,\n",
              " 'let': 1,\n",
              " 'demonstrate': 1}"
            ]
          },
          "execution_count": 104,
          "metadata": {},
          "output_type": "execute_result"
        }
      ],
      "source": [
        "word_dict = {}\n",
        "for word in final_word_list:\n",
        "    #if the word has already been found\n",
        "    if word in word_dict:\n",
        "        #increment the frequency by one\n",
        "        word_dict[word] +=1\n",
        "        #otherwise, set the frequency to one\n",
        "    else:\n",
        "        word_dict[word] = 1\n",
        "word_dict"
      ]
    },
    {
      "cell_type": "markdown",
      "metadata": {
        "id": "sRn-5TW0qvme"
      },
      "source": [
        "Let's do this with word length as well."
      ]
    },
    {
      "cell_type": "code",
      "execution_count": null,
      "metadata": {
        "colab": {
          "background_save": true
        },
        "id": "GVfklXrbqkyB",
        "outputId": "b868522f-6d2f-4d08-9a7f-9f36943cd4e6"
      },
      "outputs": [
        {
          "data": {
            "text/plain": [
              "{4: 3, 2: 2, 3: 5, 5: 4, 8: 2, 9: 2, 11: 1}"
            ]
          },
          "execution_count": 105,
          "metadata": {},
          "output_type": "execute_result"
        }
      ],
      "source": [
        "wl_dict = {}\n",
        "total_count_list = []\n",
        "for word in final_word_list:\n",
        "    #find the length of the word\n",
        "    word_length = len(word)\n",
        "    total_count_list.append(word_length)\n",
        "    #if the word length has already occurred\n",
        "    if word_length in wl_dict:\n",
        "        #increment the length frequency by one\n",
        "        wl_dict[word_length] += 1\n",
        "        #otherwise, set the frequency to one\n",
        "    else:\n",
        "        wl_dict[word_length] = 1\n",
        "wl_dict"
      ]
    },
    {
      "cell_type": "markdown",
      "metadata": {
        "id": "CBLjAcj3q4oP"
      },
      "source": [
        "Let's put the dictionary in order by length of the word.\n"
      ]
    },
    {
      "cell_type": "code",
      "execution_count": null,
      "metadata": {
        "colab": {
          "background_save": true
        },
        "id": "HFjnDLvIqzMQ",
        "outputId": "bc6b7498-8557-4ff0-ce02-0a84d89856fe"
      },
      "outputs": [
        {
          "data": {
            "text/plain": [
              "{2: 2, 3: 5, 4: 3, 5: 4, 8: 2, 9: 2, 11: 1}"
            ]
          },
          "execution_count": 106,
          "metadata": {},
          "output_type": "execute_result"
        }
      ],
      "source": [
        "#sort the keys from the dictionary so they are in order -- this creates a list\n",
        "sorted_wl = sorted(wl_dict)\n",
        "\n",
        "#create the sorted dictionary\n",
        "sorted_wl_dict = {}\n",
        "\n",
        "#for each key in the sorted list\n",
        "for wl in sorted_wl:\n",
        "    \n",
        "    #add the key to the sorted dictionary \n",
        "    #along with its value from the unsorted dictionary\n",
        "    sorted_wl_dict[wl] = wl_dict[wl]\n",
        "sorted_wl_dict"
      ]
    },
    {
      "cell_type": "markdown",
      "metadata": {
        "id": "o6nyt8VFq_7J"
      },
      "source": [
        "Finally, let's put this into a pandas Dataframe, as they're easier to work with when comparing multiple data sets."
      ]
    },
    {
      "cell_type": "code",
      "execution_count": null,
      "metadata": {
        "colab": {
          "background_save": true
        },
        "id": "FaNY0SaEq8k0",
        "outputId": "c52088d5-e5e0-4a9b-af72-c99aabf43243"
      },
      "outputs": [
        {
          "data": {
            "text/html": [
              "\n",
              "  <div id=\"df-abd300ec-8939-459e-8922-21e4ecb30178\">\n",
              "    <div class=\"colab-df-container\">\n",
              "      <div>\n",
              "<style scoped>\n",
              "    .dataframe tbody tr th:only-of-type {\n",
              "        vertical-align: middle;\n",
              "    }\n",
              "\n",
              "    .dataframe tbody tr th {\n",
              "        vertical-align: top;\n",
              "    }\n",
              "\n",
              "    .dataframe thead th {\n",
              "        text-align: right;\n",
              "    }\n",
              "</style>\n",
              "<table border=\"1\" class=\"dataframe\">\n",
              "  <thead>\n",
              "    <tr style=\"text-align: right;\">\n",
              "      <th></th>\n",
              "      <th>Word Length</th>\n",
              "      <th>Frequency of Length</th>\n",
              "    </tr>\n",
              "  </thead>\n",
              "  <tbody>\n",
              "    <tr>\n",
              "      <th>0</th>\n",
              "      <td>2</td>\n",
              "      <td>2</td>\n",
              "    </tr>\n",
              "    <tr>\n",
              "      <th>1</th>\n",
              "      <td>3</td>\n",
              "      <td>5</td>\n",
              "    </tr>\n",
              "    <tr>\n",
              "      <th>2</th>\n",
              "      <td>4</td>\n",
              "      <td>3</td>\n",
              "    </tr>\n",
              "    <tr>\n",
              "      <th>3</th>\n",
              "      <td>5</td>\n",
              "      <td>4</td>\n",
              "    </tr>\n",
              "    <tr>\n",
              "      <th>4</th>\n",
              "      <td>8</td>\n",
              "      <td>2</td>\n",
              "    </tr>\n",
              "    <tr>\n",
              "      <th>5</th>\n",
              "      <td>9</td>\n",
              "      <td>2</td>\n",
              "    </tr>\n",
              "    <tr>\n",
              "      <th>6</th>\n",
              "      <td>11</td>\n",
              "      <td>1</td>\n",
              "    </tr>\n",
              "  </tbody>\n",
              "</table>\n",
              "</div>\n",
              "      <button class=\"colab-df-convert\" onclick=\"convertToInteractive('df-abd300ec-8939-459e-8922-21e4ecb30178')\"\n",
              "              title=\"Convert this dataframe to an interactive table.\"\n",
              "              style=\"display:none;\">\n",
              "        \n",
              "  <svg xmlns=\"http://www.w3.org/2000/svg\" height=\"24px\"viewBox=\"0 0 24 24\"\n",
              "       width=\"24px\">\n",
              "    <path d=\"M0 0h24v24H0V0z\" fill=\"none\"/>\n",
              "    <path d=\"M18.56 5.44l.94 2.06.94-2.06 2.06-.94-2.06-.94-.94-2.06-.94 2.06-2.06.94zm-11 1L8.5 8.5l.94-2.06 2.06-.94-2.06-.94L8.5 2.5l-.94 2.06-2.06.94zm10 10l.94 2.06.94-2.06 2.06-.94-2.06-.94-.94-2.06-.94 2.06-2.06.94z\"/><path d=\"M17.41 7.96l-1.37-1.37c-.4-.4-.92-.59-1.43-.59-.52 0-1.04.2-1.43.59L10.3 9.45l-7.72 7.72c-.78.78-.78 2.05 0 2.83L4 21.41c.39.39.9.59 1.41.59.51 0 1.02-.2 1.41-.59l7.78-7.78 2.81-2.81c.8-.78.8-2.07 0-2.86zM5.41 20L4 18.59l7.72-7.72 1.47 1.35L5.41 20z\"/>\n",
              "  </svg>\n",
              "      </button>\n",
              "      \n",
              "  <style>\n",
              "    .colab-df-container {\n",
              "      display:flex;\n",
              "      flex-wrap:wrap;\n",
              "      gap: 12px;\n",
              "    }\n",
              "\n",
              "    .colab-df-convert {\n",
              "      background-color: #E8F0FE;\n",
              "      border: none;\n",
              "      border-radius: 50%;\n",
              "      cursor: pointer;\n",
              "      display: none;\n",
              "      fill: #1967D2;\n",
              "      height: 32px;\n",
              "      padding: 0 0 0 0;\n",
              "      width: 32px;\n",
              "    }\n",
              "\n",
              "    .colab-df-convert:hover {\n",
              "      background-color: #E2EBFA;\n",
              "      box-shadow: 0px 1px 2px rgba(60, 64, 67, 0.3), 0px 1px 3px 1px rgba(60, 64, 67, 0.15);\n",
              "      fill: #174EA6;\n",
              "    }\n",
              "\n",
              "    [theme=dark] .colab-df-convert {\n",
              "      background-color: #3B4455;\n",
              "      fill: #D2E3FC;\n",
              "    }\n",
              "\n",
              "    [theme=dark] .colab-df-convert:hover {\n",
              "      background-color: #434B5C;\n",
              "      box-shadow: 0px 1px 3px 1px rgba(0, 0, 0, 0.15);\n",
              "      filter: drop-shadow(0px 1px 2px rgba(0, 0, 0, 0.3));\n",
              "      fill: #FFFFFF;\n",
              "    }\n",
              "  </style>\n",
              "\n",
              "      <script>\n",
              "        const buttonEl =\n",
              "          document.querySelector('#df-abd300ec-8939-459e-8922-21e4ecb30178 button.colab-df-convert');\n",
              "        buttonEl.style.display =\n",
              "          google.colab.kernel.accessAllowed ? 'block' : 'none';\n",
              "\n",
              "        async function convertToInteractive(key) {\n",
              "          const element = document.querySelector('#df-abd300ec-8939-459e-8922-21e4ecb30178');\n",
              "          const dataTable =\n",
              "            await google.colab.kernel.invokeFunction('convertToInteractive',\n",
              "                                                     [key], {});\n",
              "          if (!dataTable) return;\n",
              "\n",
              "          const docLinkHtml = 'Like what you see? Visit the ' +\n",
              "            '<a target=\"_blank\" href=https://colab.research.google.com/notebooks/data_table.ipynb>data table notebook</a>'\n",
              "            + ' to learn more about interactive tables.';\n",
              "          element.innerHTML = '';\n",
              "          dataTable['output_type'] = 'display_data';\n",
              "          await google.colab.output.renderOutput(dataTable, element);\n",
              "          const docLink = document.createElement('div');\n",
              "          docLink.innerHTML = docLinkHtml;\n",
              "          element.appendChild(docLink);\n",
              "        }\n",
              "      </script>\n",
              "    </div>\n",
              "  </div>\n",
              "  "
            ],
            "text/plain": [
              "   Word Length  Frequency of Length\n",
              "0            2                    2\n",
              "1            3                    5\n",
              "2            4                    3\n",
              "3            5                    4\n",
              "4            8                    2\n",
              "5            9                    2\n",
              "6           11                    1"
            ]
          },
          "execution_count": 107,
          "metadata": {},
          "output_type": "execute_result"
        }
      ],
      "source": [
        "#make the sorted dictionary into a pandas dataframe\n",
        "sorted_df = pd.DataFrame(list(sorted_wl_dict.items()), \n",
        "                         columns = ['Word Length', 'Frequency of Length'])\n",
        "sorted_df"
      ]
    },
    {
      "cell_type": "markdown",
      "metadata": {
        "id": "L7VfebVCrRMG"
      },
      "source": [
        "Now, we can visualize the data by graphing it."
      ]
    },
    {
      "cell_type": "code",
      "execution_count": null,
      "metadata": {
        "colab": {
          "background_save": true
        },
        "id": "Una62KBOrNoQ",
        "outputId": "7cd7f54b-ad47-4ed6-c813-3b88c814817c"
      },
      "outputs": [
        {
          "data": {
            "image/png": "[encoded data removed]",
            "text/plain": [
              "<Figure size 432x288 with 1 Axes>"
            ]
          },
          "metadata": {},
          "output_type": "display_data"
        }
      ],
      "source": [
        "sns.scatterplot(data = sorted_df, x = \"Word Length\", y = \"Frequency of Length\")\n",
        "plt.title(\"Frequencies of Word Lengths\")\n",
        "plt.show()"
      ]
    },
    {
      "cell_type": "code",
      "execution_count": null,
      "metadata": {
        "colab": {
          "background_save": true
        },
        "id": "Tk4xIdeZrT5u",
        "outputId": "fdd1ea71-385b-4b08-d947-d996b7288f4c"
      },
      "outputs": [
        {
          "data": {
            "image/png": "[encoded data removed]",
            "text/plain": [
              "<Figure size 432x288 with 1 Axes>"
            ]
          },
          "metadata": {},
          "output_type": "display_data"
        }
      ],
      "source": [
        "sns.histplot(data = total_count_list, binwidth = 1)\n",
        "plt.xlabel(\"Word Length\")\n",
        "plt.title(\"Word Length Frequency\")\n",
        "plt.show()"
      ]
    },
    {
      "cell_type": "markdown",
      "metadata": {
        "id": "fCN7Q7iVrfaa"
      },
      "source": [
        "This was a pretty simple example, just to show the basics of natural language processing, but this is really the core of what we did. Next, let's look at a larger-scale example."
      ]
    },
    {
      "cell_type": "markdown",
      "metadata": {
        "id": "LVt2WH2KLiMF"
      },
      "source": [
        "# Larger Examples"
      ]
    },
    {
      "cell_type": "markdown",
      "metadata": {
        "id": "j-yitAX-e8YU"
      },
      "source": [
        "##How to get data from textual input"
      ]
    },
    {
      "cell_type": "markdown",
      "metadata": {
        "id": "bMpyy8qYU8bW"
      },
      "source": [
        "First, we're going to read in the text files and separate them by author. These files were obtained from [Project Gutenberg](https://www.gutenberg.org/)"
      ]
    },
    {
      "cell_type": "code",
      "execution_count": null,
      "metadata": {
        "id": "MttxrRUTWS0L"
      },
      "outputs": [],
      "source": [
        "from google.colab import drive\n",
        "drive.mount('/content/drive')"
      ]
    },
    {
      "cell_type": "code",
      "execution_count": null,
      "metadata": {
        "id": "Tru9eniiSgm8"
      },
      "outputs": [],
      "source": [
        "#Dickens: great_expectations, oliver_twist, tale_of_two_cities\n",
        "#Stoker:  dracula, lady_of_the_shroud, lair_of_the_white_worm \n",
        "with open('/content/drive/Shareddrives/Undergrad Research/Report Sections/Demo Files/great_expectations.txt') as f:\n",
        "  ge = f.read()\n",
        "\n",
        "with open('/content/drive/Shareddrives/Undergrad Research/Report Sections/Demo Files/oliver_twist.txt') as g:\n",
        "  ot = g.read()\n",
        "\n",
        "with open('/content/drive/Shareddrives/Undergrad Research/Report Sections/Demo Files/tale_of_two_cities.txt') as h:\n",
        "  totc = h.read()\n",
        "\n",
        "with open('/content/drive/Shareddrives/Undergrad Research/Report Sections/Demo Files/dracula.txt') as j:\n",
        "  s1 = j.read()\n",
        "\n",
        "with open('/content/drive/Shareddrives/Undergrad Research/Report Sections/Demo Files/lady_of_the_shroud.txt') as k:\n",
        "  s2 = k.read()\n",
        "\n",
        "with open('/content/drive/Shareddrives/Undergrad Research/Report Sections/Demo Files/lair_of_the_white_worm.txt') as l:\n",
        "  s3 = l.read()\n",
        "\n",
        "#Put all of Dickens' works into one string called dickens\n",
        "dickens = ge + ot + totc\n",
        "\n",
        "#Do the same for Austen's works\n",
        "stoker = s1 + s2 + s3"
      ]
    },
    {
      "cell_type": "code",
      "execution_count": null,
      "metadata": {
        "id": "FzO0-94fdM1O"
      },
      "outputs": [],
      "source": [
        "#Import the tokenizing functions from the Natural Language Tool Kit (nltk)\n",
        "from nltk.tokenize import sent_tokenize, word_tokenize\n",
        "#and pandas\n",
        "import pandas as pd\n",
        "#and seaborn\n",
        "import seaborn as sns\n",
        "#and pyplot\n",
        "import matplotlib.pyplot as plt\n",
        "\n",
        "import nltk\n",
        "nltk.download('punkt')\n",
        "nltk.download('stopwords')"
      ]
    },
    {
      "cell_type": "markdown",
      "metadata": {
        "id": "A-jsWS0TSzGK"
      },
      "source": [
        "### Sentence Length Frequency"
      ]
    },
    {
      "cell_type": "code",
      "execution_count": null,
      "metadata": {
        "id": "xBphXDuNSsKa"
      },
      "outputs": [],
      "source": [
        "#This makes a dictionary of sentence lengths, using code from above\n",
        "\n",
        "takeout = ['.',',','!',\"?\",\"'s\", \"--\", \"''\", \"``\"]\n",
        "\n",
        "def sent_dictionary_maker(text):\n",
        "    text_sent = sent_tokenize(text)\n",
        "    sent_dict = {}\n",
        "    total_sent_length = []\n",
        "    for sentence in text_sent:\n",
        "        words_in_sent = word_tokenize(sentence)\n",
        "        words_clean = [word.lower() for word in words_in_sent \n",
        "                       if word.lower() not in takeout]\n",
        "        sent_length = len(words_clean)\n",
        "        total_sent_length.append(sent_length)\n",
        "        if sent_length in sent_dict:\n",
        "            sent_dict[sent_length] += 1\n",
        "        else:\n",
        "            sent_dict[sent_length] = 1\n",
        "    \n",
        "    sorted_sl = sorted(sent_dict)\n",
        "\n",
        "    sorted_sl_dict = {}\n",
        "    for sl in sorted_sl:\n",
        "        sorted_sl_dict[sl] = sent_dict[sl]\n",
        "    return sorted_sl_dict, total_sent_length\n"
      ]
    },
    {
      "cell_type": "code",
      "execution_count": null,
      "metadata": {
        "id": "6QlhpqNxS_dr"
      },
      "outputs": [],
      "source": [
        "#Make a dictionary for Dickens and Austen each\n",
        "dickens_sl, dickens_total_sent_length = sent_dictionary_maker(dickens)\n",
        "stoker_sl, stoker_total_sent_length = sent_dictionary_maker(stoker)"
      ]
    },
    {
      "cell_type": "code",
      "execution_count": null,
      "metadata": {
        "id": "umLluhkwTFgV"
      },
      "outputs": [],
      "source": [
        "#Make them into pandas dataframes\n",
        "dickens_sl_df = pd.DataFrame(list(dickens_sl.items()), \n",
        "                             columns = ['Sentence Length', 'Frequency of Length'])\n",
        "stoker_sl_df = pd.DataFrame(list(stoker_sl.items()), \n",
        "                            columns = ['Sentence Length', 'Frequency of Length'])"
      ]
    },
    {
      "cell_type": "code",
      "execution_count": null,
      "metadata": {
        "id": "VY0bHXqQTKcT"
      },
      "outputs": [],
      "source": [
        "# adding a column containing the author's name\n",
        "dickens_sl_df[\"Author\"] = \"Dickens\"\n",
        "stoker_sl_df[\"Author\"] = \"Stoker\""
      ]
    },
    {
      "cell_type": "code",
      "execution_count": null,
      "metadata": {
        "id": "-ps7DnDfTR6f"
      },
      "outputs": [],
      "source": [
        "#Concatenate them into one dataframe\n",
        "sl_dfs = [dickens_sl_df, stoker_sl_df]\n",
        "sl_df = pd.concat(sl_dfs)"
      ]
    },
    {
      "cell_type": "markdown",
      "metadata": {
        "id": "COOpbA6aVXhb"
      },
      "source": [
        "We now have one dataframe with both authors and their sentence length data. From here, we're going to look at it without doing much \"real\" statistical analysis, so we can get an idea of how the authors' sentence lengths compare."
      ]
    },
    {
      "cell_type": "code",
      "execution_count": null,
      "metadata": {
        "id": "sq2hvicNTV2e"
      },
      "outputs": [],
      "source": [
        "sns.scatterplot(data = sl_df, x = \"Sentence Length\", \n",
        "                y = \"Frequency of Length\", hue = \"Author\")\n",
        "plt.title(\"Frequencies of Sentence Lengths\")\n",
        "plt.show()"
      ]
    },
    {
      "cell_type": "code",
      "execution_count": null,
      "metadata": {
        "id": "atCdKbwwTZb2"
      },
      "outputs": [],
      "source": [
        "sns.catplot(data = sl_df, x = \"Author\", \n",
        "            y = \"Sentence Length\", kind = \"box\")\n",
        "plt.title(\"Sentence Length by Author\")\n",
        "plt.show()"
      ]
    },
    {
      "cell_type": "code",
      "execution_count": null,
      "metadata": {
        "id": "tpAB-gtTTbj7"
      },
      "outputs": [],
      "source": [
        "sns.histplot(data = dickens_total_sent_length, binwidth = 5)\n",
        "plt.xlabel(\"Sentence Length\")\n",
        "plt.title(\"Dickens Sentence Length Frequency\")\n",
        "plt.show()"
      ]
    },
    {
      "cell_type": "code",
      "execution_count": null,
      "metadata": {
        "id": "7uaL1ma4TeJH"
      },
      "outputs": [],
      "source": [
        "sns.histplot(data = stoker_total_sent_length, binwidth = 5)\n",
        "plt.xlabel(\"Sentence Length\")\n",
        "plt.title(\"Stoker Sentence Length Frequency\")\n",
        "plt.show()"
      ]
    },
    {
      "cell_type": "markdown",
      "metadata": {
        "id": "6ev0DqFcTkHO"
      },
      "source": [
        "Based on the above data, it looks like Stoker has shorter sentences on average than Dickens, though not by too much."
      ]
    },
    {
      "cell_type": "markdown",
      "metadata": {
        "id": "d7gPbSEKlqUK"
      },
      "source": [
        "Now, we will do the same with the word length frequencies."
      ]
    },
    {
      "cell_type": "markdown",
      "metadata": {
        "id": "qXozG7m-Tnbk"
      },
      "source": [
        "### Word Length Frequency"
      ]
    },
    {
      "cell_type": "code",
      "execution_count": null,
      "metadata": {
        "id": "F16WoPg0ThU-"
      },
      "outputs": [],
      "source": [
        "#This makes a dictionary of word lengths, using code from above\n",
        "\n",
        "def word_length_maker(text):\n",
        "    punct = ['.', ',','!','?', '\"',\"'\", '’s', '”', '“' ]\n",
        "    text_words = word_tokenize(text)\n",
        "    words_clean = [word.lower() for word in text_words if word not in punct]\n",
        "    word_dict = {}\n",
        "    total_word_length = []\n",
        "    for word in words_clean:\n",
        "        word_length = len(word)\n",
        "        total_word_length.append(word_length)\n",
        "        if word_length in word_dict:\n",
        "            word_dict[word_length] += 1\n",
        "        else:\n",
        "            word_dict[word_length] = 1\n",
        "    \n",
        "    sorted_wl = sorted(word_dict)\n",
        "\n",
        "    sorted_wl_dict = {}\n",
        "    for wl in sorted_wl:\n",
        "        sorted_wl_dict[wl] = word_dict[wl]\n",
        "    return sorted_wl_dict, total_word_length"
      ]
    },
    {
      "cell_type": "code",
      "execution_count": null,
      "metadata": {
        "id": "L1aJ4G8aTt8F"
      },
      "outputs": [],
      "source": [
        "#Make word length dictionaries for each author\n",
        "dickens_wl, dickens_total_word_length = word_length_maker(dickens)\n",
        "stoker_wl, stoker_total_word_length = word_length_maker(stoker)"
      ]
    },
    {
      "cell_type": "code",
      "execution_count": null,
      "metadata": {
        "id": "rCHt9nhXTy29"
      },
      "outputs": [],
      "source": [
        "#Make those into pandas dataframes\n",
        "dickens_wl_df = pd.DataFrame(list(dickens_wl.items()), \n",
        "                             columns = ['Word Length', 'Frequency of Length'])\n",
        "stoker_wl_df = pd.DataFrame(list(stoker_wl.items()), \n",
        "                            columns = ['Word Length', 'Frequency of Length'])"
      ]
    },
    {
      "cell_type": "code",
      "execution_count": null,
      "metadata": {
        "id": "TdYPGQuST3zd"
      },
      "outputs": [],
      "source": [
        "#Concatenate the pandas dataframes\n",
        "dickens_wl_df[\"Author\"] = \"Dickens\"\n",
        "stoker_wl_df[\"Author\"] = \"Stoker\"\n",
        "wl_dfs = [dickens_wl_df, stoker_wl_df]\n",
        "wl_df = pd.concat(wl_dfs)"
      ]
    },
    {
      "cell_type": "markdown",
      "metadata": {
        "id": "ufx9kfT0VdTk"
      },
      "source": [
        "Similar to above, we now have one dataframe with both authors and their word length data. We're going to look at it using basic graphs to get an idea of how the authors' word lengths compare."
      ]
    },
    {
      "cell_type": "code",
      "execution_count": null,
      "metadata": {
        "id": "iMFzDaQUT8q3"
      },
      "outputs": [],
      "source": [
        "sns.scatterplot(data = wl_df, x = \"Word Length\", \n",
        "                y = \"Frequency of Length\", hue = \"Author\")\n",
        "plt.title(\"Frequencies of Word Lengths\")\n",
        "plt.show()"
      ]
    },
    {
      "cell_type": "code",
      "execution_count": null,
      "metadata": {
        "id": "waogrHHMT-7B"
      },
      "outputs": [],
      "source": [
        "sns.scatterplot(data = dickens_wl_df, x = \"Word Length\", \n",
        "                y = \"Frequency of Length\", hue = \"Author\")\n",
        "plt.title(\"Frequencies of Word Lengths -- Dickens\")\n",
        "plt.show()\n",
        "sns.scatterplot(data = stoker_wl_df, x = \"Word Length\", \n",
        "                y = \"Frequency of Length\", hue = \"Author\")\n",
        "plt.title(\"Frequencies of Word Lengths -- Stoker\")\n",
        "plt.show()"
      ]
    },
    {
      "cell_type": "code",
      "execution_count": null,
      "metadata": {
        "id": "yisfMnGwUFpi"
      },
      "outputs": [],
      "source": [
        "sns.catplot(data = wl_df, x = \"Author\", y = \"Word Length\", kind = \"box\")\n",
        "plt.title(\"Word Length by Author\")\n",
        "plt.show()"
      ]
    },
    {
      "cell_type": "code",
      "execution_count": null,
      "metadata": {
        "id": "XrzXZkgxUIou"
      },
      "outputs": [],
      "source": [
        "sns.histplot(data = dickens_total_word_length, binwidth = 1)\n",
        "plt.xlabel(\"Word Length\")\n",
        "plt.title(\"Dickens Word Length Frequency\")\n",
        "plt.show()"
      ]
    },
    {
      "cell_type": "code",
      "execution_count": null,
      "metadata": {
        "id": "5rSCiKCIUNlG"
      },
      "outputs": [],
      "source": [
        "sns.histplot(data = stoker_total_word_length, binwidth = 1)\n",
        "plt.xlabel(\"Word Length\")\n",
        "plt.title(\"Stoker Word Length Frequency\")\n",
        "plt.show()"
      ]
    },
    {
      "cell_type": "markdown",
      "metadata": {
        "id": "0F2HV4_MUUeT"
      },
      "source": [
        "Based on the data above, Dickens and Stoker seem to have similar distributions in word lengths."
      ]
    },
    {
      "cell_type": "markdown",
      "metadata": {
        "id": "gIhYda6El4CC"
      },
      "source": [
        "Then, we looked at the words that were used themselves instead of the length of these words. "
      ]
    },
    {
      "cell_type": "markdown",
      "metadata": {
        "id": "qBrSx10eUYw2"
      },
      "source": [
        "### Word Frequency\n",
        "\n",
        "For word frequency, we're going to take out stop words, which are the words most commonly used by everyone like \"the\", \"an\", and \"to\". Then we can compare the top 20 words used by each author without the boring words getting in the way."
      ]
    },
    {
      "cell_type": "code",
      "execution_count": null,
      "metadata": {
        "id": "JAAqOmceUR4J"
      },
      "outputs": [],
      "source": [
        "import operator\n",
        "#We use this to sort the dictionary by value\n",
        "from nltk.corpus import stopwords\n",
        "#We import the stop words here\n",
        "\n",
        "def word_freq_maker(text):\n",
        "    punct = ['.', ',','!','?', '\"',\"'\", '’s', '”', '“', ';', ':', \"'s\", \"'t\", \"’\", \"--\", \"''\", \"``\", \"*\"]\n",
        "    stop_words = set(stopwords.words('english'))\n",
        "    text_words = word_tokenize(text)\n",
        "    word_dict = {}\n",
        "    #take out punctuation and stopwords\n",
        "    clean_words = [word.lower() for word in text_words \n",
        "                   if (word not in punct and word.lower() not in stop_words)]\n",
        "    for word in clean_words:\n",
        "        if word in word_dict:\n",
        "            word_dict[word] += 1\n",
        "        else:\n",
        "            word_dict[word] = 1\n",
        "            \n",
        "    #sort by frequency of word\n",
        "    sorted_word_freq = sorted(word_dict.items(), \n",
        "                              key=operator.itemgetter(1), reverse = True)\n",
        "    word_freq_dict = dict(sorted_word_freq)\n",
        "    return word_freq_dict"
      ]
    },
    {
      "cell_type": "code",
      "execution_count": null,
      "metadata": {
        "id": "98n1zzmyUfJe"
      },
      "outputs": [],
      "source": [
        "dickens_wf = word_freq_maker(dickens)\n",
        "stoker_wf = word_freq_maker(stoker)"
      ]
    },
    {
      "cell_type": "code",
      "execution_count": null,
      "metadata": {
        "id": "fUtmR7MOUisr"
      },
      "outputs": [],
      "source": [
        "dickens_wf_df = pd.DataFrame(list(dickens_wf.items()), \n",
        "                             columns = ['Word', 'Frequency of Word'])\n",
        "stoker_wf_df = pd.DataFrame(list(stoker_wf.items()), \n",
        "                            columns = ['Word', 'Frequency of Word'])"
      ]
    },
    {
      "cell_type": "code",
      "execution_count": null,
      "metadata": {
        "id": "d9NRK_tcUmwQ"
      },
      "outputs": [],
      "source": [
        "dickens_top = dickens_wf_df[:20]\n",
        "stoker_top = stoker_wf_df[:20]"
      ]
    },
    {
      "cell_type": "markdown",
      "metadata": {
        "id": "CNCMJvI4Vqjp"
      },
      "source": [
        "Here we have the top 20 words used by each author. We can look more closely at them to see what their works are about, and we can see how their top words compare."
      ]
    },
    {
      "cell_type": "code",
      "execution_count": null,
      "metadata": {
        "id": "3cVaHbpTUrGn"
      },
      "outputs": [],
      "source": [
        "#Show the top 20 words used by Dickens\n",
        "dickens_top"
      ]
    },
    {
      "cell_type": "code",
      "execution_count": null,
      "metadata": {
        "id": "UT9cxJ9RUtKE"
      },
      "outputs": [],
      "source": [
        "#Show the top 20 words used by Stoker\n",
        "stoker_top"
      ]
    },
    {
      "cell_type": "markdown",
      "metadata": {
        "id": "cnRSqVx3Uz1p"
      },
      "source": [
        "Based on each of these, we can identify a bit about the style of each author. Dickens, for example, writes about characters like Oliver and Joe, so we can assume that those are two of his main characters. Stoker, though, doesn't have any names in his top 20 used words and so he likely doesn't focus as much on specific characters; however, he has the word \"man\" there, so he likely writes more generally about his characters. Both authors have the word \"said\" in their top 20, which indicates that there is a good amount of dialogue in both of their writing styles. "
      ]
    },
    {
      "cell_type": "markdown",
      "metadata": {
        "id": "lQCSinY2fBmi"
      },
      "source": [
        "##How to analyze for prediction\n"
      ]
    },
    {
      "cell_type": "markdown",
      "metadata": {
        "id": "XXd8FQCTnZ9C"
      },
      "source": [
        "From here, we wanted to see if we could predict an author based on the characteristics of the book. Since Austen and Dickens turned out to be so similar, we chose to look at Dickens and an author from a different genre to have a better chance of predicting the correct author for each book. Then, we will use some similar techniques as above applied to more books. We start by reading in all of the books, and then copy and pasting most of the same functions above. One extra book is read in in order to test our model at the end, but this was not included in the original dataframe so it wouldn't be used to build the model. "
      ]
    },
    {
      "cell_type": "code",
      "execution_count": null,
      "metadata": {
        "id": "5KlNmcsTBauD"
      },
      "outputs": [],
      "source": [
        "# reading in books\n",
        "with open('/content/drive/Shareddrives/Undergrad Research/Report Sections/Demo Files/dracula.txt') as m:\n",
        "    dr = m.read()\n",
        "\n",
        "with open('/content/drive/Shareddrives/Undergrad Research/Report Sections/Demo Files/dracula-guest.txt') as gg:\n",
        "    drg = gg.read()\n",
        "\n",
        "with open('/content/drive/Shareddrives/Undergrad Research/Report Sections/Demo Files/famous-imposters.txt') as n:\n",
        "    fi = n.read()\n",
        "\n",
        "with open('/content/drive/Shareddrives/Undergrad Research/Report Sections/Demo Files/lady-athlyne.txt') as o:\n",
        "    la = o.read() \n",
        "\n",
        "with open('/content/drive/Shareddrives/Undergrad Research/Report Sections/Demo Files/lady-of-the-shroud.txt') as p:\n",
        "    lots = p.read()    \n",
        "\n",
        "with open('/content/drive/Shareddrives/Undergrad Research/Report Sections/Demo Files/lair-of-the-white-worm.txt') as q:\n",
        "    lotww = q.read()   \n",
        "    \n",
        "with open('/content/drive/Shareddrives/Undergrad Research/Report Sections/Demo Files/mystery-of-the-sea.txt') as r:\n",
        "    mots = r.read()\n",
        "\n",
        "with open('/content/drive/Shareddrives/Undergrad Research/Report Sections/Demo Files/the-man.txt') as s:\n",
        "    tm = s.read()\n"
      ]
    },
    {
      "cell_type": "code",
      "execution_count": null,
      "metadata": {
        "id": "Y5XVrh_CfJT3"
      },
      "outputs": [],
      "source": [
        "with open('/content/drive/Shareddrives/Undergrad Research/Report Sections/Demo Files/great-expectations.txt') as t:\n",
        "    ge = t.read()\n",
        "\n",
        "with open('/content/drive/Shareddrives/Undergrad Research/Report Sections/Demo Files/oliver-twist.txt') as u:\n",
        "    ot = u.read()\n",
        "\n",
        "with open('/content/drive/Shareddrives/Undergrad Research/Report Sections/Demo Files/tale-of-two-cities.txt') as v:\n",
        "    totc = v.read()\n",
        "\n",
        "with open('/content/drive/Shareddrives/Undergrad Research/Report Sections/Demo Files/christmas-carol.txt') as w:\n",
        "    cc = w.read()\n",
        "    \n",
        "with open('/content/drive/Shareddrives/Undergrad Research/Report Sections/Demo Files/hard-times.txt') as x:\n",
        "    ht = x.read()\n",
        "    \n",
        "with open('/content/drive/Shareddrives/Undergrad Research/Report Sections/Demo Files/pickwick.txt') as y:\n",
        "    pw = y.read()\n",
        "    \n",
        "with open('/content/drive/Shareddrives/Undergrad Research/Report Sections/Demo Files/curiosity.txt') as z:\n",
        "    c = z.read()\n",
        "\n",
        "with open('/content/drive/Shareddrives/Undergrad Research/Report Sections/Demo Files/nick.txt') as aa:\n",
        "    nick = aa.read()\n",
        "    \n",
        "with open('/content/drive/Shareddrives/Undergrad Research/Report Sections/Demo Files/bleak-house.txt') as bb:\n",
        "    bh = bb.read()\n",
        "\n",
        "with open('/content/drive/Shareddrives/Undergrad Research/Report Sections/Demo Files/american.txt') as hh:\n",
        "    us = hh.read()\n",
        "\n",
        "with open('/content/drive/Shareddrives/Undergrad Research/Report Sections/Demo Files/ghost.txt') as dd:\n",
        "    ghost = dd.read()\n",
        "    \n",
        "with open('/content/drive/Shareddrives/Undergrad Research/Report Sections/Demo Files/mutual-friend.txt') as ee:\n",
        "    friend = ee.read()\n",
        "\n",
        "    \n",
        "## read in one more as a validation set: \n",
        "\n",
        "with open('/content/drive/Shareddrives/Undergrad Research/Report Sections/Demo Files/little.txt') as ff:\n",
        "    little = ff.read()"
      ]
    },
    {
      "cell_type": "code",
      "execution_count": null,
      "metadata": {
        "id": "KNqgS-ty1wMq"
      },
      "outputs": [],
      "source": [
        "## function for sentence dictionary\n",
        "def sent_dictionary_maker(text):\n",
        "    text_sent = sent_tokenize(text)\n",
        "    sent_dict = {}\n",
        "    total_sent_length = []\n",
        "    for sentence in text_sent:\n",
        "        words_in_sent = word_tokenize(sentence)\n",
        "        words_clean = [word.lower() for word in words_in_sent \n",
        "                       if word.lower() not in takeout]\n",
        "        sent_length = len(words_clean)\n",
        "        total_sent_length.append(sent_length)\n",
        "        if sent_length in sent_dict:\n",
        "            sent_dict[sent_length] += 1\n",
        "        else:\n",
        "            sent_dict[sent_length] = 1\n",
        "    \n",
        "    sorted_sl = sorted(sent_dict)\n",
        "\n",
        "    sorted_sl_dict = {}\n",
        "    for sl in sorted_sl:\n",
        "        sorted_sl_dict[sl] = sent_dict[sl]\n",
        "    return sorted_sl_dict, total_sent_length"
      ]
    },
    {
      "cell_type": "code",
      "execution_count": null,
      "metadata": {
        "id": "OgTeVO7B2F7y"
      },
      "outputs": [],
      "source": [
        "takeout = ['.',',','!',\"?\",\"'s\"]"
      ]
    },
    {
      "cell_type": "code",
      "execution_count": null,
      "metadata": {
        "id": "H6gYwwyl2M6W"
      },
      "outputs": [],
      "source": [
        "## create a sentence dictionary for all of Stoker texts\n",
        "dracula, drlength = sent_dictionary_maker(dr)\n",
        "draculaguest, drguestlength = sent_dictionary_maker(drg)\n",
        "imposters, implength = sent_dictionary_maker(fi)\n",
        "ladya, ladylength = sent_dictionary_maker(la)\n",
        "shroud, slength = sent_dictionary_maker(lots)\n",
        "worm, wormlength = sent_dictionary_maker(lotww)\n",
        "mystery, mlength = sent_dictionary_maker(mots)\n",
        "man, manlength = sent_dictionary_maker(tm)"
      ]
    },
    {
      "cell_type": "code",
      "execution_count": null,
      "metadata": {
        "id": "BPLvqX0Y2PTY"
      },
      "outputs": [],
      "source": [
        "## make them into pandas dataframes\n",
        "dracula_df = pd.DataFrame(list(dracula.items()), \n",
        "                         columns = ['Sentence Length', 'Frequency of Length'])\n",
        "draculaguest_df = pd.DataFrame(list(draculaguest.items()), \n",
        "                         columns = ['Sentence Length', 'Frequency of Length'])\n",
        "imposters_df = pd.DataFrame(list(imposters.items()), \n",
        "                         columns = ['Sentence Length', 'Frequency of Length'])\n",
        "ladya_df = pd.DataFrame(list(ladya.items()), \n",
        "                         columns = ['Sentence Length', 'Frequency of Length'])\n",
        "shroud_df = pd.DataFrame(list(shroud.items()), \n",
        "                         columns = ['Sentence Length', 'Frequency of Length'])\n",
        "worm_df = pd.DataFrame(list(worm.items()), \n",
        "                         columns = ['Sentence Length', 'Frequency of Length'])\n",
        "mystery_df = pd.DataFrame(list(mystery.items()), \n",
        "                         columns = ['Sentence Length', 'Frequency of Length'])\n",
        "man_df = pd.DataFrame(list(man.items()), \n",
        "                         columns = ['Sentence Length', 'Frequency of Length'])"
      ]
    },
    {
      "cell_type": "markdown",
      "metadata": {
        "id": "z8LeKnCBwe8g"
      },
      "source": [
        "Here, we added an \"Author\" column into our dataset that we didn't previously have in order to allow us to predict the author in that stage. "
      ]
    },
    {
      "cell_type": "code",
      "execution_count": null,
      "metadata": {
        "id": "ae-kvFP42RR1"
      },
      "outputs": [],
      "source": [
        "dracula_df[\"Author\"] = \"Stoker\"\n",
        "dracula_df['Book'] = 'Dracula'\n",
        "\n",
        "draculaguest_df[\"Author\"] = \"Stoker\"\n",
        "draculaguest_df[\"Book\"] = \"Dracula's Guest\"\n",
        "\n",
        "imposters_df[\"Author\"] = \"Stoker\"\n",
        "imposters_df[\"Book\"] = \"Famous Imposters\"\n",
        "\n",
        "ladya_df[\"Author\"] = \"Stoker\"\n",
        "ladya_df[\"Book\"] = \"Lady Athlyne\"\n",
        "\n",
        "\n",
        "shroud_df[\"Author\"] = \"Stoker\"\n",
        "shroud_df[\"Book\"] = \"Lady of the Shroud\"\n",
        "\n",
        "worm_df[\"Author\"] = \"Stoker\"\n",
        "worm_df[\"Book\"] = \"The Lair of the White Worm\"\n",
        "\n",
        "mystery_df[\"Author\"] = \"Stoker\"\n",
        "mystery_df[\"Book\"] = \"The Mystery of the Sea\"\n",
        "\n",
        "man_df[\"Author\"] = \"Stoker\"\n",
        "man_df[\"Book\"] = \"The Man\""
      ]
    },
    {
      "cell_type": "code",
      "execution_count": null,
      "metadata": {
        "id": "XDJMmYKi2T-O"
      },
      "outputs": [],
      "source": [
        "# do the same for the Dickens books\n",
        "great, greatlength = sent_dictionary_maker(ge)\n",
        "oliver, olength = sent_dictionary_maker(ot)\n",
        "tale, talelength = sent_dictionary_maker(totc)\n",
        "christmas, christmaslength = sent_dictionary_maker(cc)\n",
        "times, timeslength = sent_dictionary_maker(ht)\n",
        "pickwick, pwlength = sent_dictionary_maker(pw)\n",
        "curiosity, clength = sent_dictionary_maker(c)\n",
        "nicholas, nlength = sent_dictionary_maker(nick)\n",
        "house, houselength = sent_dictionary_maker(bh)\n",
        "american, uslength = sent_dictionary_maker(us)\n",
        "ghost2, ghostlength = sent_dictionary_maker(ghost)\n",
        "mfriend, friendlength = sent_dictionary_maker(friend)\n",
        "littledorrit, ldlength = sent_dictionary_maker(little)"
      ]
    },
    {
      "cell_type": "code",
      "execution_count": null,
      "metadata": {
        "id": "7tHIXRVp2WKV"
      },
      "outputs": [],
      "source": [
        "# make these into dataframes\n",
        "great_df = pd.DataFrame(list(great.items()), \n",
        "                         columns = ['Sentence Length', 'Frequency of Length'])\n",
        "oliver_df = pd.DataFrame(list(oliver.items()), \n",
        "                         columns = ['Sentence Length', 'Frequency of Length'])\n",
        "tale_df = pd.DataFrame(list(tale.items()), \n",
        "                         columns = ['Sentence Length', 'Frequency of Length'])\n",
        "christmas_df = pd.DataFrame(list(christmas.items()), \n",
        "                         columns = ['Sentence Length', 'Frequency of Length'])\n",
        "times_df = pd.DataFrame(list(times.items()), \n",
        "                         columns = ['Sentence Length', 'Frequency of Length'])\n",
        "pickwick_df = pd.DataFrame(list(pickwick.items()), \n",
        "                         columns = ['Sentence Length', 'Frequency of Length'])\n",
        "curiosity_df = pd.DataFrame(list(curiosity.items()), \n",
        "                         columns = ['Sentence Length', 'Frequency of Length'])\n",
        "nicholas_df = pd.DataFrame(list(nicholas.items()), \n",
        "                         columns = ['Sentence Length', 'Frequency of Length'])\n",
        "house_df = pd.DataFrame(list(house.items()), \n",
        "                         columns = ['Sentence Length', 'Frequency of Length'])\n",
        "american_df = pd.DataFrame(list(american.items()), \n",
        "                         columns = ['Sentence Length', 'Frequency of Length'])\n",
        "ghost2_df = pd.DataFrame(list(ghost2.items()), \n",
        "                         columns = ['Sentence Length', 'Frequency of Length'])\n",
        "mfriend_df = pd.DataFrame(list(mfriend.items()), \n",
        "                         columns = ['Sentence Length', 'Frequency of Length'])\n",
        "littledorrit_df = pd.DataFrame(list(littledorrit.items()), \n",
        "                         columns = ['Sentence Length', 'Frequency of Length'])"
      ]
    },
    {
      "cell_type": "code",
      "execution_count": null,
      "metadata": {
        "id": "8m6DN7Rs2Ze1"
      },
      "outputs": [],
      "source": [
        "# add author and title columns\n",
        "great_df['Author'] = 'Dickens'\n",
        "great_df['Book'] = 'Great Expectations'\n",
        "\n",
        "oliver_df['Author'] = 'Dickens'\n",
        "oliver_df['Book'] = 'Oliver Twist'\n",
        "\n",
        "tale_df['Author'] = 'Dickens'\n",
        "tale_df['Book'] = 'A Tale of Two Cities'\n",
        "\n",
        "christmas_df['Author'] = 'Dickens'\n",
        "christmas_df['Book'] = 'A Christmas Carol'\n",
        "\n",
        "times_df['Author'] = 'Dickens'\n",
        "times_df['Book'] = 'Hard Times'\n",
        "\n",
        "pickwick_df['Author'] = 'Dickens'\n",
        "pickwick_df['Book'] = 'The Pickwick Papers'\n",
        "\n",
        "curiosity_df['Author'] = 'Dickens'\n",
        "curiosity_df['Book'] = 'THe Old Curiosity Shop'\n",
        "\n",
        "nicholas_df['Author'] = 'Dickens'\n",
        "nicholas_df['Book'] = 'Nicholas Nickelby'\n",
        "\n",
        "house_df['Author'] = 'Dickens'\n",
        "house_df['Book'] = 'Bleak House'\n",
        "\n",
        "american_df['Author'] = 'Dickens'\n",
        "american_df['Book'] = 'American Notes'\n",
        "\n",
        "ghost2_df['Author'] = 'Dickens'\n",
        "ghost2_df['Book'] = 'Three Ghost Stories'\n",
        "\n",
        "mfriend_df['Author'] = 'Dickens'\n",
        "mfriend_df['Book'] = 'Our Mutual friend'\n"
      ]
    },
    {
      "cell_type": "code",
      "execution_count": null,
      "metadata": {
        "id": "gLGO2vmI2aAk"
      },
      "outputs": [],
      "source": [
        "## create a single data frame for all of this\n",
        "\n",
        "sl_dfs = [great_df, oliver_df, tale_df, christmas_df, times_df, \n",
        "          pickwick_df, curiosity_df, nicholas_df, house_df,american_df,\n",
        "         ghost2_df, mfriend_df, dracula_df, draculaguest_df, imposters_df, \n",
        "          ladya_df, shroud_df, worm_df, mystery_df, man_df]\n",
        "sl_df = pd.concat(sl_dfs)"
      ]
    },
    {
      "cell_type": "code",
      "execution_count": null,
      "metadata": {
        "id": "tIqKJnnc2fBQ"
      },
      "outputs": [],
      "source": [
        "import operator\n",
        "#We use this to sort the dictionary by value\n",
        "from nltk.corpus import stopwords\n",
        "#We import the stop words here\n",
        "\n",
        "def word_freq_maker(text):\n",
        "    punct = ['.', ',','!','?', '\"',\"'\", '’s', '”', '“', ';', ':', \"'s\", \"'t\", \"’\"]\n",
        "    stop_words = set(stopwords.words('english'))\n",
        "    text_words = word_tokenize(text)\n",
        "    word_dict = {}\n",
        "    #take out punctuation and stopwords\n",
        "    clean_words = [word.lower() for word in text_words \n",
        "                   if (word not in punct and word.lower() not in stop_words)]\n",
        "    for word in clean_words:\n",
        "        if word in word_dict:\n",
        "            word_dict[word] += 1\n",
        "        else:\n",
        "            word_dict[word] = 1\n",
        "            \n",
        "    #sort by frequency of word\n",
        "    sorted_word_freq = sorted(word_dict.items(), \n",
        "                              key=operator.itemgetter(1), reverse = True)\n",
        "    word_freq_dict = dict(sorted_word_freq)\n",
        "    return word_freq_dict"
      ]
    },
    {
      "cell_type": "code",
      "execution_count": null,
      "metadata": {
        "id": "joDJGB0J2gg1"
      },
      "outputs": [],
      "source": [
        "## word dictionaries for stoker works\n",
        "\n",
        "dracula_wf = word_freq_maker(dr)\n",
        "draculag_wf = word_freq_maker(drg)\n",
        "imposters_wf = word_freq_maker(fi)\n",
        "ladya_wf = word_freq_maker(la)\n",
        "shroud_wf = word_freq_maker(lots)\n",
        "worm_wf = word_freq_maker(lotww)\n",
        "mystery_wf = word_freq_maker(mots)\n",
        "man_wf = word_freq_maker(tm)"
      ]
    },
    {
      "cell_type": "code",
      "execution_count": null,
      "metadata": {
        "id": "4Q_qd8uz2g4y"
      },
      "outputs": [],
      "source": [
        "dracula_wf_df = pd.DataFrame(list(dracula_wf.items()), \n",
        "                            columns = ['Word', 'Frequency of Word'])\n",
        "draculag_wf_df = pd.DataFrame(list(draculag_wf.items()), \n",
        "                            columns = ['Word', 'Frequency of Word'])\n",
        "imposters_wf_df = pd.DataFrame(list(imposters_wf.items()), \n",
        "                            columns = ['Word', 'Frequency of Word'])\n",
        "ladya_wf_df = pd.DataFrame(list(ladya_wf.items()), \n",
        "                            columns = ['Word', 'Frequency of Word'])\n",
        "shroud_wf_df = pd.DataFrame(list(shroud_wf.items()), \n",
        "                            columns = ['Word', 'Frequency of Word'])\n",
        "worm_wf_df = pd.DataFrame(list(worm_wf.items()), \n",
        "                            columns = ['Word', 'Frequency of Word'])\n",
        "mystery_wf_df = pd.DataFrame(list(mystery_wf.items()), \n",
        "                            columns = ['Word', 'Frequency of Word'])\n",
        "man_wf_df = pd.DataFrame(list(man_wf.items()), \n",
        "                            columns = ['Word', 'Frequency of Word'])"
      ]
    },
    {
      "cell_type": "code",
      "execution_count": null,
      "metadata": {
        "id": "t9NmWzw12igL"
      },
      "outputs": [],
      "source": [
        "## sentence dictionaries for dickens books\n",
        "\n",
        "great_wf = word_freq_maker(ge)\n",
        "oliver_wf = word_freq_maker(ot)\n",
        "cities_wf = word_freq_maker(totc)\n",
        "christmas_wf = word_freq_maker(cc)\n",
        "hardtimes_wf = word_freq_maker(ht)\n",
        "pw_wf = word_freq_maker(pw)\n",
        "curious_wf = word_freq_maker(c)\n",
        "nick_wf = word_freq_maker(nick)\n",
        "bh_wf = word_freq_maker(bh)\n",
        "us_wf = word_freq_maker(us)\n",
        "ghost_wf = word_freq_maker(ghost)\n",
        "mfriend_wf = word_freq_maker(friend)\n",
        "little_wf = word_freq_maker(little)"
      ]
    },
    {
      "cell_type": "code",
      "execution_count": null,
      "metadata": {
        "id": "cb029r4D2kQC"
      },
      "outputs": [],
      "source": [
        "## dataframes for dickens\n",
        "\n",
        "great_wf_df = pd.DataFrame(list(great_wf.items()), \n",
        "                            columns = ['Word', 'Frequency of Word'])\n",
        "oliver_wf_df = pd.DataFrame(list(oliver_wf.items()), \n",
        "                            columns = ['Word', 'Frequency of Word'])\n",
        "cities_wf_df = pd.DataFrame(list(cities_wf.items()), \n",
        "                            columns = ['Word', 'Frequency of Word'])\n",
        "christmas_wf_df = pd.DataFrame(list(christmas_wf.items()), \n",
        "                            columns = ['Word', 'Frequency of Word'])\n",
        "hardtimes_wf_df = pd.DataFrame(list(hardtimes_wf.items()), \n",
        "                            columns = ['Word', 'Frequency of Word'])\n",
        "pw_wf_df = pd.DataFrame(list(pw_wf.items()), \n",
        "                            columns = ['Word', 'Frequency of Word'])\n",
        "curious_wf_df = pd.DataFrame(list(curious_wf.items()), \n",
        "                            columns = ['Word', 'Frequency of Word'])\n",
        "nick_wf_df = pd.DataFrame(list(nick_wf.items()), \n",
        "                            columns = ['Word', 'Frequency of Word'])\n",
        "bh_wf_df = pd.DataFrame(list(bh_wf.items()), \n",
        "                            columns = ['Word', 'Frequency of Word'])\n",
        "us_wf_df = pd.DataFrame(list(us_wf.items()), \n",
        "                            columns = ['Word', 'Frequency of Word'])\n",
        "ghost_wf_df = pd.DataFrame(list(ghost_wf.items()), \n",
        "                            columns = ['Word', 'Frequency of Word'])\n",
        "mfriend_wf_df = pd.DataFrame(list(mfriend_wf.items()), \n",
        "                            columns = ['Word', 'Frequency of Word'])\n",
        "little_wf_df = pd.DataFrame(list(little_wf.items()), \n",
        "                            columns = ['Word', 'Frequency of Word'])"
      ]
    },
    {
      "cell_type": "code",
      "execution_count": null,
      "metadata": {
        "id": "a9QKbAvY2ltT"
      },
      "outputs": [],
      "source": [
        "dracula_wf_df[\"Author\"] = \"Stoker\"\n",
        "dracula_wf_df['Book'] = 'Dracula'\n",
        "\n",
        "draculag_wf_df[\"Author\"] = \"Stoker\"\n",
        "draculag_wf_df[\"Book\"] = \"Dracula's Guest\"\n",
        "\n",
        "imposters_wf_df[\"Author\"] = \"Stoker\"\n",
        "imposters_wf_df[\"Book\"] = \"Famous Imposters\"\n",
        "\n",
        "ladya_wf_df[\"Author\"] = \"Stoker\"\n",
        "ladya_wf_df[\"Book\"] = \"Lady Athlyne\"\n",
        "\n",
        "shroud_wf_df[\"Author\"] = \"Stoker\"\n",
        "shroud_wf_df[\"Book\"] = \"Lady of the Shroud\"\n",
        "\n",
        "worm_wf_df[\"Author\"] = \"Stoker\"\n",
        "worm_wf_df[\"Book\"] = \"The Lair of the White Worm\"\n",
        "\n",
        "mystery_wf_df[\"Author\"] = \"Stoker\"\n",
        "mystery_wf_df[\"Book\"] = \"The Mystery of the Sea\"\n",
        "\n",
        "man_wf_df[\"Author\"] = \"Stoker\"\n",
        "man_wf_df[\"Book\"] = \"The Man\""
      ]
    },
    {
      "cell_type": "code",
      "execution_count": null,
      "metadata": {
        "id": "1NK3HDUI2nzN"
      },
      "outputs": [],
      "source": [
        "## assign authors to all dickens books except our validation book\n",
        "\n",
        "great_wf_df['Author'] = 'Dickens'\n",
        "great_wf_df['Book'] = 'Great Expectations'\n",
        "\n",
        "oliver_wf_df['Author'] = 'Dickens'\n",
        "oliver_wf_df['Book'] = 'Oliver Twist'\n",
        "\n",
        "cities_wf_df['Author'] = 'Dickens'\n",
        "cities_wf_df['Book'] = 'A Tale of Two Cities'\n",
        "\n",
        "christmas_wf_df['Author'] = 'Dickens'\n",
        "christmas_wf_df['Book'] = 'A Christmas Carol'\n",
        "\n",
        "hardtimes_wf_df['Author'] = 'Dickens'\n",
        "hardtimes_wf_df['Book'] = 'Hard Times'\n",
        "\n",
        "pw_wf_df['Author'] = 'Dickens'\n",
        "pw_wf_df['Book'] = 'The Pickwick Papers'\n",
        "\n",
        "curious_wf_df['Author'] = 'Dickens'\n",
        "curious_wf_df['Book'] = 'THe Old Curiosity Shop'\n",
        "\n",
        "nick_wf_df['Author'] = 'Dickens'\n",
        "nick_wf_df['Book'] = 'Nicholas Nickelby'\n",
        "\n",
        "bh_wf_df['Author'] = 'Dickens'\n",
        "bh_wf_df['Book'] = 'Bleak House'\n",
        "\n",
        "us_wf_df['Author'] = 'Dickens'\n",
        "us_wf_df['Book'] = 'American Notes'\n",
        "\n",
        "ghost_wf_df['Author'] = 'Dickens'\n",
        "ghost_wf_df['Book'] = 'Three Ghost Stories'\n",
        "\n",
        "mfriend_wf_df['Author'] = 'Dickens'\n",
        "mfriend_wf_df['Book'] = 'Our Mutual friend'"
      ]
    },
    {
      "cell_type": "code",
      "execution_count": null,
      "metadata": {
        "id": "nP9lTlJn2qXx"
      },
      "outputs": [],
      "source": [
        "## creating a single dataframe\n",
        "wl_dfs = [mfriend_wf_df, ghost_wf_df, us_wf_df, bh_wf_df, nick_wf_df, curious_wf_df,\n",
        "         pw_wf_df, hardtimes_wf_df, christmas_wf_df, cities_wf_df, oliver_wf_df, great_wf_df,\n",
        "          man_wf_df, mystery_wf_df, worm_wf_df, shroud_wf_df, ladya_wf_df, imposters_wf_df,\n",
        "         draculag_wf_df, dracula_wf_df]\n",
        "wl_df = pd.concat(wl_dfs)"
      ]
    },
    {
      "cell_type": "code",
      "execution_count": null,
      "metadata": {
        "id": "68gvcpG42rvu"
      },
      "outputs": [],
      "source": [
        "wl_df.head()"
      ]
    },
    {
      "cell_type": "markdown",
      "metadata": {
        "id": "hROISqyJ27MZ"
      },
      "source": [
        "We then calculated the average sentence length, average word length, median sentence length, median word length, maximum sentence length, and maximum word length for each book and compiled these into a dataframe along with the author each book was written by and the author. Below are the first few rows of this dataframe."
      ]
    },
    {
      "cell_type": "code",
      "execution_count": null,
      "metadata": {
        "id": "ksIK1pP6275M"
      },
      "outputs": [],
      "source": [
        "import pandas as pd\n",
        "\n",
        "df = pd.read_csv('/content/drive/Shareddrives/Undergrad Research/Report Sections/Demo Files/df.csv')\n",
        "df.head()"
      ]
    },
    {
      "cell_type": "markdown",
      "metadata": {
        "id": "5cNEpxSM3Bbm"
      },
      "source": [
        "Once we had this dataframe, we then created a dummy variable to represent our authors since the category is binary (either Dickens or Stoker) to make interpretation easier and then created a logistic regression. After playing aroung with the predictor variables, our most helpful set came out to be the average sentence length, maximum word length, and average word length. "
      ]
    },
    {
      "cell_type": "code",
      "execution_count": null,
      "metadata": {
        "id": "5_Uv0m2w29-A"
      },
      "outputs": [],
      "source": [
        "df['Authorx'] = df.Author.replace({'Dickens': 1, \n",
        "                                   'Stoker': 0})"
      ]
    },
    {
      "cell_type": "code",
      "execution_count": null,
      "metadata": {
        "id": "__NbCqfe3DI_"
      },
      "outputs": [],
      "source": [
        "import statsmodels.api as sm\n",
        "\n",
        "model = sm.GLM.from_formula('Authorx ~ Avg_Sentence_Length + Max_Word_Length + Avg_Word_Length', \n",
        "                            family = sm.families.Binomial(),\n",
        "                            data = df)\n",
        "result = model.fit()\n",
        "result.summary()"
      ]
    },
    {
      "cell_type": "markdown",
      "metadata": {
        "id": "vEAFOi0e3GsE"
      },
      "source": [
        "Now that we have our model, we can calculate these measures for our test book to determine if the model predicts the author correctly. At this point, we only have the summary statistics available. These functions were run using the same procedure as the dataframe and the results are given below. "
      ]
    },
    {
      "cell_type": "code",
      "execution_count": null,
      "metadata": {
        "id": "QQPoN3Td3Eij"
      },
      "outputs": [],
      "source": [
        "av_sent_length = 26.94790001453277\n",
        "max_word_length = 28\n",
        "avg_word_length = 4.059203764005082"
      ]
    },
    {
      "cell_type": "markdown",
      "metadata": {
        "id": "GAeCvcf03Kb6"
      },
      "source": [
        "Then, we compute the log odds of the book being written by Dickens using the coefficients given by our logistic regression model, multiplying each coefficient by the value we obtained from the summary statistics, making sure not to forget to add the coefficient as well."
      ]
    },
    {
      "cell_type": "code",
      "execution_count": null,
      "metadata": {
        "id": "RIAm4NfM3IM4"
      },
      "outputs": [],
      "source": [
        "log_odds = 28.7896 + 0.2954*(av_sent_length)\n",
        "log_odds = log_odds - 0.1241*(max_word_length)\n",
        "log_odds = log_odds- 7.4788*(avg_word_length)\n",
        "\n",
        "\n",
        "log_odds"
      ]
    },
    {
      "cell_type": "markdown",
      "metadata": {
        "id": "DydZ8qcg3Oc8"
      },
      "source": [
        "Then, our log-odds of the book being written by Charles Dickens is 2.9172. For ease of interpreting, we find the odds of this."
      ]
    },
    {
      "cell_type": "code",
      "execution_count": null,
      "metadata": {
        "id": "WYk8w7na3MNE"
      },
      "outputs": [],
      "source": [
        "import numpy as np\n",
        "np.exp(log_odds)"
      ]
    },
    {
      "cell_type": "markdown",
      "metadata": {
        "id": "zeKwIXSA3SRv"
      },
      "source": [
        "Using these results, the odds of the book being written by Charles Dickens is 18.49:1. This is exactly what we want to see, since our test book was Little Dorrit by Charles Dickens. Of course our model isn't prefect given the small sample size and relatively few variable columns, we can see that this still does produce valid results, at least given a literary work that falls into one of these two categories. \n",
        "\n",
        "For the most part, this is the most common use of tokenization, especially in the field of forensic linguistics, and shows how this can be used in the real world. This more closely resembles what forensic linguists do when comparing ransom notes and manifestos like the Lindbergh and Unabomber cases mentioned above. "
      ]
    },
    {
      "cell_type": "markdown",
      "metadata": {
        "id": "UaqLUzG4fSGv"
      },
      "source": [
        "##Background - FBI Case"
      ]
    },
    {
      "cell_type": "markdown",
      "metadata": {
        "id": "7nXhxXHZWCE2"
      },
      "source": [
        "You may recognize the name Ted Kaczynski from the homemade bombs he sent to universities and airlines through the US postal service, also known as the Unabomber. He was careful to avoid leaving any sort of forensic evidence that could lead investigators to his capture based on fingerprints or materials used. This forced the FBI and investigators to resort to different tactics to find the culprit of these crimes. \n",
        "\n",
        "\n",
        "Forensic linguistics was used for the first time in the Unabomber FBI case ending in 1996. The FBI was unable to identify the unabomber without the help of forensic linguists due to the lack of physical evidence. The Unabomber evaded detection by law enforcement for 9 years, and then was only discovered through analysis of the 35,000 word manifesto published in both the New York Times and Washington Post in September of 1995. This manifesto was published to fulfill an ultimatum and stop the attacks and build a much stronger profile, and ended up leading to the capture of the Unabomber in April of 1996. It turns out that Kaczynski had a very specific writing style that resembled that of the 1950s, with lots of outdated word choices and eccentric grammar usage. Ultimately, Kaczynski’s brother David recognized the writing style from the published manifesto and turned in a writing sample from his brother. When going to arrest Ted Kaczynski, a judge was hesitant to sign a search warrant based solely on forensic linguistics, as this was basically all the evidence they had at the time, but ultimately signed the warrant to search Kaczynski's property and investigate him more thoroughly than they could without a warrant. This led to his arrest and sentence to life in prison.\n",
        "\n",
        "From this case, the first forensic linguist in the FBI, James Fitzgerald, emerged and encouraged the widespread use of forensic linguistics to solve crimes and has since become a main part of crimefighting procedure. (https://www.languagetrainers.com/blog/using-forensic-linguistics-fighting-crime-unabomber/\n",
        ")\n",
        "\n",
        "Using this information, we wanted to try to match the Unabomber's manifesto to the letter from his family using statistics. Initially, we found the most frequent long words (over 10 letters) and the distribution of the punctuation used in each document. Knowing that the FBI used other metrics such as the syntax, regional language, bomb fragments, geographical profiling, and outdated language, we were not sure if this would be possible based on statistics alone, but wanted to see if we could provide a strong enough basis for a search warrant. "
      ]
    },
    {
      "cell_type": "markdown",
      "metadata": {
        "id": "vf2cdJY-fcUA"
      },
      "source": [
        "##Notable Statistics"
      ]
    },
    {
      "cell_type": "markdown",
      "metadata": {
        "id": "cGxK6N_bR3ds"
      },
      "source": [
        "###What are we doing?"
      ]
    },
    {
      "cell_type": "markdown",
      "metadata": {
        "id": "vMOELzdaR8Hr"
      },
      "source": [
        "We collected a dozen other manifestos on various subjects. Based on the FBI's techniques, we coded a handful of tests that would get data from our sources. From there, we tested our findings for each manifesto against the Unabomber Manifesto to see if the letter written by Kaczynski would be significantly more similar to the Unabomber Manifesto than the other manifestos. \n",
        "\n",
        "The tests we landed on are Frequent Long Words and Punctuation Distribution. The FBI commented on Kaczynski's word choice, and we noticed that the words that were most unique were often fairly long words. We specifically used manifestos that were of similar topics to Kaczynski's, such as the Futurist Manifesto, so that it wouldn't be biased based on content but specifically on word choice. We also found that punctuation distribution, or how often an author uses each punctuation mark, is a good indicator of authorship. These are how we coded the tests and the results we found."
      ]
    },
    {
      "cell_type": "markdown",
      "metadata": {
        "id": "-G7ECojmSB0k"
      },
      "source": [
        "###Imports"
      ]
    },
    {
      "cell_type": "code",
      "execution_count": null,
      "metadata": {
        "id": "kJkj0jmmSD_2"
      },
      "outputs": [],
      "source": [
        "#Import the tokenizing functions from the Natural Language Tool Kit (nltk)\n",
        "import nltk\n",
        "import operator\n",
        "from nltk.corpus import words\n",
        "import operator\n",
        "from nltk.corpus import stopwords\n",
        "from nltk.tokenize import sent_tokenize, word_tokenize\n",
        "#and pandas\n",
        "import pandas as pd\n",
        "#and seaborn\n",
        "import seaborn as sns\n",
        "#and pyplot\n",
        "import matplotlib.pyplot as plt\n",
        "import numpy as np\n",
        "import statsmodels.api as sm\n",
        "import re\n",
        "\n",
        "#nltk.download()\n",
        "nltk.download('punkt')\n",
        "nltk.download('words')\n",
        "nltk.download('averaged_perceptron_tagger')\n",
        "nltk.download('stopwords')"
      ]
    },
    {
      "cell_type": "code",
      "execution_count": null,
      "metadata": {
        "id": "SisYvJmYSPwn"
      },
      "outputs": [],
      "source": [
        "def punc_finder(text_string):\n",
        "    #Finds punctuation and returns frequency dictionary\n",
        "    punct = ['.', ',','!','?', '\"',\"'\", '”', '“', ';', ')', '(', \":\", \"-\", \"[\", \"]\"]\n",
        "    tokenized = nltk.word_tokenize(text_string)\n",
        "    pos_tagged = nltk.pos_tag(tokenized)\n",
        "    punctuation = {}\n",
        "    for word, tag in pos_tagged:\n",
        "        if word in punct:\n",
        "            if word in punctuation:\n",
        "                punctuation[word] += 1\n",
        "            else:\n",
        "                punctuation[word] = 1\n",
        "    return punctuation\n",
        "\n",
        "takeout = ['.',',','!',\"?\",\"'s\"]\n",
        "def sent_dictionary_maker(text):\n",
        "  #Returns frequencies of sentence lengths and list of sentence lengths\n",
        "    text_sent = sent_tokenize(text)\n",
        "    sent_dict = {}\n",
        "    total_sent_length = []\n",
        "    for sentence in text_sent:\n",
        "        words_in_sent = word_tokenize(sentence)\n",
        "        words_clean = [word.lower() for word in words_in_sent \n",
        "                       if word.lower() not in takeout]\n",
        "        sent_length = len(words_clean)\n",
        "        total_sent_length.append(sent_length)\n",
        "        if sent_length in sent_dict:\n",
        "            sent_dict[sent_length] += 1\n",
        "        else:\n",
        "            sent_dict[sent_length] = 1\n",
        "    \n",
        "    sorted_sl = sorted(sent_dict)\n",
        "\n",
        "    sorted_sl_dict = {}\n",
        "    for sl in sorted_sl:\n",
        "        sorted_sl_dict[sl] = sent_dict[sl]\n",
        "    return sorted_sl_dict, total_sent_length\n",
        "\n",
        "def word_length_maker(text):\n",
        "  #Returns word length frequency dictionary and list\n",
        "    punct = ['.', ',','!','?', '\"',\"'\", '’s', '”', '“' ]\n",
        "    text_words = word_tokenize(text)\n",
        "    words_clean = [word.lower() for word in text_words if word not in punct]\n",
        "    word_dict = {}\n",
        "    total_word_length = []\n",
        "    for word in words_clean:\n",
        "        word_length = len(word)\n",
        "        total_word_length.append(word_length)\n",
        "        if word_length in word_dict:\n",
        "            word_dict[word_length] += 1\n",
        "        else:\n",
        "            word_dict[word_length] = 1\n",
        "    \n",
        "    sorted_wl = sorted(word_dict)\n",
        "\n",
        "    sorted_wl_dict = {}\n",
        "    for wl in sorted_wl:\n",
        "        sorted_wl_dict[wl] = word_dict[wl]\n",
        "    return sorted_wl_dict, total_word_length\n",
        "\n",
        "\n",
        "def word_freq_maker(text):\n",
        "    #Returns dictionary of word frequencies\n",
        "    punct = ['.', ',','!','?', '\"',\"'\", '’s', '”', '“', ';', ':', \"'s\", \"'t\", \"’\", \"(\", \")\", \"–\"]\n",
        "    stop_words = set(stopwords.words('english'))\n",
        "    text_words = word_tokenize(text)\n",
        "    word_dict = {}\n",
        "    #take out punctuation and stopwords\n",
        "    clean_words = [word.lower() for word in text_words \n",
        "                   if (word not in punct and word.lower() not in stop_words)]\n",
        "    for word in clean_words:\n",
        "        if word in word_dict:\n",
        "            word_dict[word] += 1\n",
        "        else:\n",
        "            word_dict[word] = 1\n",
        "            \n",
        "    #sort by frequency of word\n",
        "    sorted_word_freq = sorted(word_dict.items(), \n",
        "                              key=operator.itemgetter(1), reverse = True)\n",
        "    word_freq_dict = dict(sorted_word_freq)\n",
        "    return word_freq_dict"
      ]
    },
    {
      "cell_type": "code",
      "execution_count": null,
      "metadata": {
        "id": "fHQ7-KySSUjA"
      },
      "outputs": [],
      "source": [
        "from google.colab import drive\n",
        "drive.mount('/content/drive')"
      ]
    },
    {
      "cell_type": "code",
      "execution_count": null,
      "metadata": {
        "id": "72wqZ5uhSW7G"
      },
      "outputs": [],
      "source": [
        "## importing the Unabomber manifesto and the letter turned into the police by Kaczynski's brother\n",
        "with open('/content/drive/Shareddrives/Undergrad Research/manifesto.txt', 'r') as f:\n",
        "  manifesto = f.read()\n",
        "\n",
        "with open('/content/drive/Shareddrives/Undergrad Research/knownauthor.txt', 'r') as f2:\n",
        "  knownauthor = f2.read()"
      ]
    },
    {
      "cell_type": "code",
      "execution_count": null,
      "metadata": {
        "id": "d_4QcqPsSZJ0"
      },
      "outputs": [],
      "source": [
        "## importing other manifestos to compare the Unabomber manifesto to\n",
        "## the names of these manifestos are in the next cell by the abbreviations used for each one\n",
        "\n",
        "with open('/content/drive/Shareddrives/Undergrad Research/Manifestos/Ballot_or_Bullet.txt') as bob:\n",
        "  bob_text = bob.read()\n",
        "with open('/content/drive/Shareddrives/Undergrad Research/Manifestos/Communist_Manifesto.txt') as fcm:\n",
        "  cm_text = fcm.read()\n",
        "with open('/content/drive/Shareddrives/Undergrad Research/Manifestos/Ethical_by_Design.txt') as ebd:\n",
        "  ebd_text = ebd.read()\n",
        "with open('/content/drive/Shareddrives/Undergrad Research/Manifestos/Fireside_Chat.txt') as fc:\n",
        "  fc_text = fc.read()\n",
        "with open('/content/drive/Shareddrives/Undergrad Research/Manifestos/Four_Hour_Work_Week.txt') as fhww:\n",
        "  fhww_text = fhww.read()\n",
        "with open('/content/drive/Shareddrives/Undergrad Research/Manifestos/Futurist_Manifesto.txt') as fm:\n",
        "  fm_text = fm.read()\n",
        "with open('/content/drive/Shareddrives/Undergrad Research/Manifestos/Have_a_Dream.txt') as had:\n",
        "  had_text = had.read()\n",
        "with open('/content/drive/Shareddrives/Undergrad Research/Manifestos/JFK_Moon.txt') as jfkm:\n",
        "  jfkm_text = jfkm.read()\n",
        "with open('/content/drive/Shareddrives/Undergrad Research/Manifestos/Kranzbergs_Laws.txt') as kl:\n",
        "  kl_text = kl.read()\n",
        "with open('/content/drive/Shareddrives/Undergrad Research/Manifestos/Sociology_of_IT.txt') as soit:\n",
        "  soit_text = soit.read()\n",
        "with open('/content/drive/Shareddrives/Undergrad Research/Manifestos/Toxic_Leader.txt') as tl:\n",
        "  tl_text = tl.read()\n",
        "with open('/content/drive/Shareddrives/Undergrad Research/Manifestos/Trump_RNC_2020.txt') as trnc:\n",
        "  trnc_text = trnc.read()"
      ]
    },
    {
      "cell_type": "code",
      "execution_count": null,
      "metadata": {
        "id": "A8wqiS7iScJ0"
      },
      "outputs": [],
      "source": [
        "manifesto_dict = {\"Known Author\":knownauthor, \"Ballot or Bullet\" : bob_text, \"Communist Manifesto\": cm_text, \"Ethical By Design\" : ebd_text, \n",
        "                  \"Fireside Chat\" : fc_text, \"Four Hour Work Week\" : fhww_text, \"Futurist Manifesto\" : fm_text, \"Have a Dream\" : had_text, \n",
        "                  \"JFK Moon\" : jfkm_text, \"Kranzberg's Laws\" : kl_text, \"Sociology of IT\" : soit_text, \"Toxic Leader\" : tl_text, \n",
        "                  \"Trump_RNC_2020\": trnc_text}"
      ]
    },
    {
      "cell_type": "code",
      "execution_count": null,
      "metadata": {
        "id": "wGnZTLObSfzk"
      },
      "outputs": [],
      "source": [
        "## using functions created previously to get statistics for each writing\n",
        "full_punc = punc_finder(manifesto)\n",
        "full_sl_dict, full_sl = sent_dictionary_maker(manifesto)\n",
        "full_wl_dict, full_wl = word_length_maker(manifesto)\n",
        "full_wf = word_freq_maker(manifesto)\n",
        "\n",
        "test_punc = punc_finder(knownauthor)\n",
        "test_sl_dict, test_sl = sent_dictionary_maker(knownauthor)\n",
        "test_wl_dict, test_wl = word_length_maker(knownauthor)\n",
        "test_wf = word_freq_maker(knownauthor)"
      ]
    },
    {
      "cell_type": "markdown",
      "metadata": {
        "id": "eaMq7tMNSjOp"
      },
      "source": [
        "###Cleaning"
      ]
    },
    {
      "cell_type": "markdown",
      "metadata": {
        "id": "LTb72bTUSlIV"
      },
      "source": [
        "Before we could start our analysis, we had to clean the data. We found the Unabomber Manifesto, but the only copy we could find of the letter his brother and sister-in-law sent to the police was a fairly old photocopy. This meant we had to transcribe the 20-page document by hand, typing it up ourselves. The photocopy had a few words and phrases that were unreadable, which meant that our data is not perfect. In order to get the word counts to be correct, we used the name of our advisor, Shepanik, as a filler word because it was a word that didn't show up in the original documents. When finding common words, we added Shepanik to our filtered words (which were mainly overly common words such as articles and pronouns). \n",
        "\n",
        "Once we had our clean files to use, we had to continue cleaning the data so we could analyze it. For functions where we were counting words, we had to take out punctuation and overly common words, and had to be careful about the capitalization of words; for counting sentences and sentence lengths, we had to split by punctuation but keep the overly common words in their sentences. We also looked at the distribution of punctuation, and had to clean our results to better compare them with the Unabomber Manifesto. Overall, we spent a lot of our time cleaning the files before doing any analysis on them."
      ]
    },
    {
      "cell_type": "markdown",
      "metadata": {
        "id": "zJQ0Br7bfkLn"
      },
      "source": [
        "###Frequent Long Words"
      ]
    },
    {
      "cell_type": "code",
      "execution_count": null,
      "metadata": {
        "id": "1TxJOFzpfju4"
      },
      "outputs": [],
      "source": [
        "def word_freq_maker(text, label):\n",
        "    #Returns dictionary of word frequencies\n",
        "    punct = ['.', ',','!','?', '\"',\"'\", '’s', '”', '“', ';', ':', \"'s\", \"'t\", \"’\", \"(\", \")\", \"–\"]\n",
        "    stop_words = set(stopwords.words('english'))\n",
        "    text_words = word_tokenize(text)\n",
        "    word_dict = {}\n",
        "    #take out punctuation and stopwords\n",
        "    clean_words = [word.lower() for word in text_words \n",
        "                   if (word not in punct and word.lower() not in stop_words and len(word) > 9)]\n",
        "    for word in clean_words:\n",
        "        if word in word_dict:\n",
        "            word_dict[word] += 1\n",
        "        else:\n",
        "            word_dict[word] = 1\n",
        "            \n",
        "    #sort by frequency of word\n",
        "    sorted_word_freq = sorted(word_dict.items(), \n",
        "                              key=operator.itemgetter(1), reverse = True)\n",
        "    word_freq_dict = dict(sorted_word_freq)\n",
        "    wf_df = pd.DataFrame(list(word_freq_dict.items()), columns = [label, \"Frequency of Word\"])\n",
        "    wf_df = wf_df.drop([\"Frequency of Word\"], axis = 1)\n",
        "    return wf_df[:20]"
      ]
    },
    {
      "cell_type": "code",
      "execution_count": null,
      "metadata": {
        "id": "yeuOydBXSu4i"
      },
      "outputs": [],
      "source": [
        "#Create Master DF with manifesto (label)\n",
        "master_wf_df = word_freq_maker(manifesto, \"Manifesto\")\n",
        "#for doc in docs:\n",
        "for m in manifesto_dict:\n",
        "  master_wf_df = master_wf_df.join(word_freq_maker(manifesto_dict[m], m))\n",
        "  wl = [word for word in master_wf_df[\"Manifesto\"]]\n",
        "  cur_wl = [word for word in master_wf_df[m]]\n",
        "  overlap = [word for word in wl if word in cur_wl]\n",
        "  print(m + \": \" + str(len(overlap)))\n",
        "  print(overlap, '\\n')\n",
        "  master_wf_df = master_wf_df.drop([m], axis = 1)\n",
        "  if m == \"Known Author\":\n",
        "    sig_overlap = len(overlap)/20"
      ]
    },
    {
      "cell_type": "code",
      "execution_count": null,
      "metadata": {
        "id": "73QSDiegSxhP"
      },
      "outputs": [],
      "source": [
        "import copy\n",
        "full_list = copy.deepcopy(manifesto_dict)\n",
        "full_list[\"Manifesto\"] = manifesto\n",
        "full_list_copy = list(full_list.keys())\n",
        "full_list_copy"
      ]
    },
    {
      "cell_type": "code",
      "execution_count": null,
      "metadata": {
        "id": "eAa4dKVmSz20"
      },
      "outputs": [],
      "source": [
        "overlap_pct_list = []\n",
        "for a in full_list:\n",
        "  for b in full_list:\n",
        "    if (full_list_copy.index(a) < full_list_copy.index(b)):\n",
        "      a_words = word_freq_maker(full_list[a], a)\n",
        "      b_words = word_freq_maker(full_list[b], b)\n",
        "      overlap_list = []\n",
        "      for word in list(a_words[a]):\n",
        "        if word in list(b_words[b]):\n",
        "          overlap_list.append(word)\n",
        "      pct = len(overlap_list)/20\n",
        "      overlap_pct_list.append(pct)\n",
        "#overlap_pct_list"
      ]
    },
    {
      "cell_type": "markdown",
      "metadata": {
        "id": "VnwNNBFzS2Q7"
      },
      "source": [
        "**A Brief Explanation of Bootstrapping and Confidence Intervals**\n",
        "\n",
        "Now that we have our data of how many of the common long words are shared between the Unabomber Manifesto and each of our other manifestos, we can take a random sample with replacement from that data, using it as our population. This is called bootstrapping, and we can use it to create a 95% confidence interval. Bootstrapping is used when you have a population that is too small to find a precise variance. We will find the mean overlap percent and the range of values that a random manifesto's overlap percentage will fall within 95% of the time. From there, we can check to see if the overlap percentage of the Kaczynski letter is within that range. If not, we can reject the null hypothesis that the overlap percentage of the Kaczynski letter is random, and can conclude that there is a distinct possibility that he is also the author of the Unabomber Manifesto."
      ]
    },
    {
      "cell_type": "code",
      "execution_count": null,
      "metadata": {
        "id": "8qg3PwkES7F7"
      },
      "outputs": [],
      "source": [
        "overlap_data = np.array(overlap_pct_list)\n",
        "\n",
        "def create_bs_stats(data, size = 1):\n",
        "    #set up array to store stats\n",
        "    bstats = np.empty(size)\n",
        "    for i in range(size):\n",
        "        bstats[i] = np.random.choice(data, len(data)).mean() #Holy shit Python is powerful\n",
        "    return bstats\n",
        "\n",
        "bdist = create_bs_stats(overlap_data, 10000)"
      ]
    },
    {
      "cell_type": "code",
      "execution_count": null,
      "metadata": {
        "id": "cx_PEnUMS9Sz"
      },
      "outputs": [],
      "source": [
        "#Check the standard errors\n",
        "bse = bdist.std()\n",
        "print(\"Bootstrap standard error: \", bse)"
      ]
    },
    {
      "cell_type": "code",
      "execution_count": null,
      "metadata": {
        "id": "7h-9siM_S_Md"
      },
      "outputs": [],
      "source": [
        "### CI bounds\n",
        "lcb = overlap_data.mean() - 2*bse\n",
        "ucb = overlap_data.mean() + 2*bse\n",
        "print(\"Our Confidence Interval is from \", lcb, \" to \", ucb)\n",
        "print(\"The value to test is \", sig_overlap)"
      ]
    },
    {
      "cell_type": "code",
      "execution_count": null,
      "metadata": {
        "id": "P7eJYoqfTBTk"
      },
      "outputs": [],
      "source": [
        "#Visualizing bootstrap distribution\n",
        "sns.displot(bdist, bins = 50)\n",
        "plt.title('Bootstrap Distribution of 10,000 Sample Means')\n",
        "plt.axvline(sig_overlap, color='red')\n",
        "plt.show()"
      ]
    },
    {
      "cell_type": "markdown",
      "metadata": {
        "id": "_8P-bIjkTF2S"
      },
      "source": [
        "**Explanation of Process and Results:**\n",
        "\n",
        "For each text, we gathered the top 20 most used \"long\" words, i.e., words of length ten or more letters, and compared how many of the words were shared between each manifesto and the Unabomber Manifesto. For example, the Fireside Chat and the Unabomber Manifesto only shared one frequent long word, \"government\". However, the piece of Kaczynski's writing submitted by his brother, which we labeled as Known Author, and the Unabomber Manifesto shared 8 out of the top 20 frequently used words, or 40%! Looking at the proportions, human instinct leads us to think this is a meaningful difference (40% vs. 5% or less in some cases). However, we essentially only have 13 pieces of data, the proportions of shared frequent words between each manifesto and the Unabomber Manifesto, and this is typically not enough to get a good estimate of the variance of this statistic; thus, the concern is that we don't really know how extreme 40% is and whether it could just be due to chance in a small sample. The bootstrap distribution gives us a way to quantify this. The only assumption needed is that you have a representative sample. If we assume that is the case, which we acknowledge is a big \"if\", we do see that 40% is a significant value and would only occur due to random sampling variance less than 5% of the time -- far less than that, in fact. So again, this indicates their overlap is not random, and points towards them having the same author!"
      ]
    },
    {
      "cell_type": "markdown",
      "metadata": {
        "id": "MM5UeQBAfq3P"
      },
      "source": [
        "###Punctuation Distribution"
      ]
    },
    {
      "cell_type": "markdown",
      "metadata": {
        "id": "oHynBnHeTNdZ"
      },
      "source": [
        "For punctuation, we first found the punctuation distributions of the Unabomber Manifesto and the test letter, before scaling it up to finding the distributions of all of the manifestos."
      ]
    },
    {
      "cell_type": "code",
      "execution_count": null,
      "metadata": {
        "id": "ZtJDJlStTOpT"
      },
      "outputs": [],
      "source": [
        "full_punc_df = pd.DataFrame(list(full_punc.items()), columns = [\"Punctuation\", \"Manifesto\"])\n",
        "\n",
        "test_punc_df = pd.DataFrame(list(test_punc.items()), columns = [\"Punctuation\", \"Test\"])\n",
        "test_punc_df = test_punc_df.set_index(test_punc_df[\"Punctuation\"])\n",
        "test_punc_df = test_punc_df.drop([\"Punctuation\"], axis = 1)\n",
        "\n",
        "total_df = full_punc_df.copy(deep = True)\n",
        "total_df = total_df.set_index(total_df[\"Punctuation\"])\n",
        "total_df = total_df.drop([\"Punctuation\"], axis = 1)\n",
        "\n",
        "total_df = total_df.join(test_punc_df)\n",
        "total_df = total_df.fillna(0)\n",
        "total_df"
      ]
    },
    {
      "cell_type": "code",
      "execution_count": null,
      "metadata": {
        "id": "lpZ9TWlATRdM"
      },
      "outputs": [],
      "source": [
        "plot = total_df.plot(kind = 'pie', subplots = True)"
      ]
    },
    {
      "cell_type": "markdown",
      "metadata": {
        "id": "R4fqZeE_fuCC"
      },
      "source": [
        "Once we'd figured out the process, we continued to find the punctuation distributions for all of the manifestos and compared them with the distribution for the Unabomber Manifesto."
      ]
    },
    {
      "cell_type": "code",
      "execution_count": null,
      "metadata": {
        "id": "Vzpiht7pTZQL"
      },
      "outputs": [],
      "source": [
        "def punc_df_finder(text_string, label):\n",
        "    #Finds punctuation and returns pandas df with punc as index\n",
        "    punct = ['.', ',','!','?', '\"',\"'\", '”', '“', ';', ')', '(', \":\", \"-\", \"[\", \"]\"]\n",
        "    tokenized = nltk.word_tokenize(text_string)\n",
        "    pos_tagged = nltk.pos_tag(tokenized)\n",
        "    punctuation = {}\n",
        "    for word, tag in pos_tagged:\n",
        "        if word in punct:\n",
        "            if word in punctuation:\n",
        "                punctuation[word] += 1\n",
        "            else:\n",
        "                punctuation[word] = 1\n",
        "    punc_df = pd.DataFrame(list(punctuation.items()), columns = [\"Punctuation\", label])\n",
        "    punc_df = punc_df.set_index(punc_df[\"Punctuation\"])\n",
        "    punc_df = punc_df.drop([\"Punctuation\"], axis = 1)\n",
        "    return punc_df"
      ]
    },
    {
      "cell_type": "code",
      "execution_count": null,
      "metadata": {
        "id": "soxM2xwkTbs2"
      },
      "outputs": [],
      "source": [
        "#Create \"Master\" DF with manifesto as label\n",
        "master_punc_df = punc_df_finder(manifesto, \"Manifesto\")\n",
        "manifesto_df = master_punc_df.copy(deep = True)\n",
        "#For Doc in Docs\n",
        "for m in manifesto_dict:\n",
        "  cur_df = punc_df_finder(manifesto_dict[m], m)\n",
        "  #Do the Punctuation (returns DF) -- Set label to title of file\n",
        "  master_punc_df = master_punc_df.join(cur_df)\n",
        "  master_ounc_df = master_punc_df.fillna(0)\n",
        "  mini_df = manifesto_df.copy(deep = True)\n",
        "  mini_df = mini_df.join(cur_df)\n",
        "  mini_df = mini_df.fillna(0)\n",
        "  plot = mini_df.plot(kind = 'pie', subplots = True)\n",
        "  mini_df = mini_df.drop([m], axis = 1)"
      ]
    },
    {
      "cell_type": "markdown",
      "metadata": {
        "id": "FD2ZvORBTgum"
      },
      "source": [
        "**Explanation of Results:**\n",
        "\n",
        "Based on the pie charts, we can see that the punctuation distribution of the Unabomber Manifesto and Kaczynski's letter are very similar. The Unabomber Manifesto is always on the left, paired with a different text on the right. The colors for each of the punctuations hold constant, so we're just looking for the best \"pair\" of charts that match. The distributions of the other manifestos are distinctly different from both of them. We tried to prove this statistically using a logistic regression, but found that this does not work with our dataset, as we get a perfect separation error. This means that all or almost all of our predictors are associated with only one of the outcomes. We also attempted a chi-square test, but ran into similar issues, as the assumptions to use a chi-square test were violated."
      ]
    },
    {
      "cell_type": "markdown",
      "metadata": {
        "id": "nV7SkXfBf2OZ"
      },
      "source": [
        "###What Else We Tried"
      ]
    },
    {
      "cell_type": "markdown",
      "metadata": {
        "id": "8GmrCErqhxpV"
      },
      "source": [
        "While we were writing the code, there were a few things we tried that we couldn't get to work with our code. One thing we tried was pulling out how many British vs. American spellings the author used. Based on the FBI report, this is one of the notable aspects of Kaczynski's writings that led to a further investigation into him. We attempted to replicate this in our code by using a list of British English spellings of words, but we couldn't get it to register correctly. Another thing we tried was using outdated terminology. This was another thing that the FBI linguists noticed was uncommon among the general public but showed up in both the Unabomber Manifesto and Kaczynski's letter. However, we couldn't figure out a system to pick out those kinds of phrases. In future projects, we would recommend looking into these further, potentially using more specific language models and n-grams to pick out specific phrases.\n",
        "\n",
        "There were also statistics that we found that ended up not being significant, as they were too similar among the manifestos. We tried using word lengths in general, specifically the mean/maximum/minimum lengths, but they were all fairly close in all of the manifestos. Similarly, we tried using sentence lengths and ran into the same issue. We specifically picked manifestos to use as our tests because we didn't want to mistake similarities in form for similarities in authorship; for instance, mathematics journal articles would share certain characteristics with other mathematical journal articles just because of that form of writing. Since we can rule out similarities in form, we concluded that these statistics came from the similar forms of each of the manifestos.\n"
      ]
    },
    {
      "cell_type": "markdown",
      "metadata": {
        "id": "-lNPJg4rO8eA"
      },
      "source": [
        "## Overall Conclusion"
      ]
    },
    {
      "cell_type": "markdown",
      "metadata": {
        "id": "qaH9-0HOO_hE"
      },
      "source": [
        "While we weren't able to definitively prove that the letters were written by the same author, we did find some significant statistics in our analysis that we believe would lead to a warrant and further investigation into Ted Kaczynski. Our methods and findings were different than the original FBI investigation, but it would lead to the same conclusion that would eventually lead to a warrant and the findings of the bomb fragments in Kaczynski's possession, ultimitely leading to his arrest. "
      ]
    },
    {
      "cell_type": "markdown",
      "metadata": {
        "id": "s7dZV5tTgC9A"
      },
      "source": [
        "##Further Research/Weaknesses/Improvements"
      ]
    },
    {
      "cell_type": "markdown",
      "metadata": {
        "id": "mUuGOA5kibTE"
      },
      "source": [
        "If we were to do further research into this, we would take advantage of the linguistic models that have been built for Python. One specific feature we'd look into further is n-grams, which find the phrases of length n that are most used within a piece of writing. This could help us find some of the distinct phrases that the FBI pointed out as unique, like the phrase \"eat your cake and have it too.\" We would also look into using lemmatization to find common words that are used; lemmatization takes off the affixes of a word, leaving just the root word. This can be helpful in finding the topics of a piece of writing, as it counts words like \"helping\" and \"helped\" under the root word \"help.\" Finally, we would look into machine learning, such as the Naive Bayes model, to look for patterns that would be difficult to code.\n",
        "\n",
        "We had a couple weaknesses in our code that we would hopefully improve in further research. One weakness is having a small sample size, as we had only 12 manifestos other than the Unabomber Manifesto and the Kaczynski letter. This small of a sample size could lead to insignificant statistics seeming more significant than they are. Although we used bootstrapping in order to avoid that problem, we would use an even larger sample in the future. Our other biggest weakness is that we had to transcribe Kaczynski's letter ourselves based on an imperfect photocopy. This means there are missing words, and even though we tried to use a filler word, it could still affect sentence length. If we were to continue this research, we would hope to find a better quality copy of Kaczynski's letter to run our tests with."
      ]
    },
    {
      "cell_type": "markdown",
      "metadata": {
        "id": "OfI1qXV3Nm12"
      },
      "source": [
        "Works Cited\n",
        "\n",
        "ABC News. “FULL TEXT: Donald Trump's 2020 Republican National Convention   Speech.” ABC News, ABC News Network, https://abcnews.go.com/Politics/\n",
        "full-text-donald-trumps-2020-republican-national-convention/story?\n",
        "id=72659782. \n",
        "\n",
        "\n",
        "Coulthard, Malcolm, et al. The Routledge Handbook of Forensic Linguistics. Routledge, 2021. \n",
        "“The Four Hour Work Week.” Manifesto, http://manifestos.mombartz.com/the-four-hour-work-week/. \n",
        "\n",
        "\n",
        "\n",
        "Goldman, Alan. “Dr Alan Goldman: A Toxic Leader Manifesto.” 1000Manifestos.Com, 1 Aug. 2011, https://1000manifestos.com/dr-alan-goldman-a-toxic-leader-manifesto/. \n",
        "\n",
        "\n",
        "\n",
        "“Handwriting Evidence From Lindberg Case.” Encyclopedia.com, Encyclopedia.com, 26 Feb. 2023, https://www.encyclopedia.com/law/educational-magazines/handwriting-evidence-lindbergh-case. \n",
        "\n",
        "\n",
        "\n",
        "Kaczynski, Ted. “Industrial Society and Its Future.” Received by The Washington Post, 19 Sept. 1995. \n",
        "\n",
        "\n",
        "\n",
        "Kaczynski, Ted. “UNABOM Collection T-2.” T-2 | California, https://harbor.klnpa.org/california/islandora/object/cali%3A929. \n",
        "\n",
        "\n",
        "\n",
        "Kennedy, John F. “John F Kennedy: Man on the Moon.” Manifesto, http://manifestos.mombartz.com/john-f-kennedy-man-on-the-moon/. \n",
        "\n",
        "\n",
        "\n",
        "King, Martin Luther. “Read Martin Luther King Jr.'s 'I Have a Dream' Speech in Its Entirety.” NPR, NPR, 16 Jan. 2023, https://www.npr.org/2010/01/18/122701268/i-have-a-dream-speech-in-its-entirety. \n",
        "\n",
        "\n",
        "\n",
        "King, Martin Luther. “Read Martin Luther King Jr.'s 'I Have a Dream' Speech in Its Entirety.” NPR, NPR, 16 Jan. 2023, https://www.npr.org/2010/01/18/122701268/i-have-a-dream-speech-in-its-entirety. \n",
        "\n",
        "\n",
        "\n",
        "Kranzberg, Melvin. “Technology and History: ‘Kranzberg 's Laws.’” JSTOR Home, Johns Hopkins University Press, https://www.jstor.org/stable/pdf/3105385.pdf. \n",
        "\n",
        "\n",
        "\n",
        "Marinetti, Filipo Tommaso. The Futurist Manifesto, https://www.societyforasianart.org/sites/default/files/manifesto_futurista.pdf. \n",
        "\n",
        "\n",
        "\n",
        "Marx, Karl, and Frederick Engels. “Manifesto of the Communist Party.” Marxist.org, Progress Publishers, https://www.marxists.info/archive/marx/works/download/pdf/Manifesto.pdf. \n",
        "\n",
        "\n",
        "\n",
        "Mulvenna, Maurice, et al. “Ethical by Design - A Manifesto - Hubscher.” Ethical By Design - A Manifesto, http://hubscher.org/roland/courses/hf765/readings/p51-mulvenna.pdf. \n",
        "\n",
        "\n",
        "\n",
        "Posted by Daniel Dawson See Author's BioSeptember 3. “Using Forensic Linguistics to Solve Mysteries and Fight Crime.” Language Trainers USA Blog, 5 Sept. 2018, https://www.languagetrainers.com/blog/using-forensic-linguistics-fighting-crime-unabomber/. \n",
        "\n",
        "\n",
        "\n",
        "“Project Gutenberg.” Project Gutenberg, https://www.gutenberg.org/. \n",
        "\n",
        "\n",
        "\n",
        "Roosevelt, Franklin Delano. “On The Bank Crisis.” On the Bank Crisis - March 12,1933, http://docs.fdrlibrary.marist.edu/031233.html. \n",
        "\n",
        "\n",
        "\n",
        "Sassen, Saskia. “Towards a Sociology of Information Technology - University of Chicago.” Towards a Sociology of Information Technology, http://transnationalism.uchicago.edu/infotech.pdf. \n",
        "\n",
        "\n",
        "\n",
        "Solan, Lawrence M., and Peter Meijes Tiersma. Speaking of Crime: The Language of Criminal Justice. University of Chicago Press, 2005. \n",
        "\n",
        "\n",
        "\n",
        "“Unabomber Manifesto.” Wikipedia, Wikimedia Foundation, 22 Feb. 2023, https://en.wikipedia.org/wiki/Unabomber_Manifesto. \n",
        "\n",
        "\n",
        "\n",
        "“Unabomber.” FBI, FBI, 18 May 2016, https://www.fbi.gov/history/famous-cases/unabomber. \n",
        "\n",
        "\n",
        "\n",
        "“What Is Natural Language Processing?” IBM, https://www.ibm.com/topics/natural-language-processing. \n",
        "\n",
        "\n",
        "\n",
        "X, Malcolm. “The Ballot or the Bullet.” Malcolm X: The Ballot or the Bullet, http://www.edchange.org/multicultural/speeches/malcolm_x_ballot.html. \n"
      ]
    }
  ],
  "metadata": {
    "colab": {
      "provenance": []
    },
    "kernelspec": {
      "display_name": "Python 3",
      "name": "python3"
    },
    "language_info": {
      "name": "python"
    }
  },
  "nbformat": 4,
  "nbformat_minor": 0
}